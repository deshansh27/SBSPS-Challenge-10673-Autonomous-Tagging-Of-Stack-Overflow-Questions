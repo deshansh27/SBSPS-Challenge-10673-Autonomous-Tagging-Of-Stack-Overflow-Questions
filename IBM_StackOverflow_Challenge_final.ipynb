{
  "nbformat": 4,
  "nbformat_minor": 0,
  "metadata": {
    "colab": {
      "provenance": []
    },
    "kernelspec": {
      "name": "python3",
      "display_name": "Python 3"
    },
    "language_info": {
      "name": "python"
    }
  },
  "cells": [
    {
      "cell_type": "code",
      "source": [
        "\n",
        "!python --version"
      ],
      "metadata": {
        "colab": {
          "base_uri": "https://localhost:8080/"
        },
        "id": "5EbrzlPp-qC3",
        "outputId": "31e65c5f-26de-45ad-c26a-492f76da223a"
      },
      "execution_count": null,
      "outputs": [
        {
          "output_type": "stream",
          "name": "stdout",
          "text": [
            "Python 3.10.12\n"
          ]
        }
      ]
    },
    {
      "cell_type": "markdown",
      "source": [
        "## Loading dataset"
      ],
      "metadata": {
        "id": "UozHmyO2-6m1"
      }
    },
    {
      "cell_type": "code",
      "execution_count": null,
      "metadata": {
        "id": "vULeRHxUa5_b"
      },
      "outputs": [],
      "source": [
        "import os\n",
        "os.environ['KAGGLE_CONFIG_DIR'] = '/content/'"
      ]
    },
    {
      "cell_type": "code",
      "source": [
        "!kaggle datasets download -d stackoverflow/stacksample"
      ],
      "metadata": {
        "colab": {
          "base_uri": "https://localhost:8080/"
        },
        "id": "rVADiHPAj8jt",
        "outputId": "72da4be0-610d-49a4-949f-b3e7d9f92efb"
      },
      "execution_count": null,
      "outputs": [
        {
          "output_type": "stream",
          "name": "stdout",
          "text": [
            "Warning: Your Kaggle API key is readable by other users on this system! To fix this, you can run 'chmod 600 /content/kaggle.json'\n",
            "Downloading stacksample.zip to /content\n",
            "100% 1.11G/1.11G [00:41<00:00, 31.8MB/s]\n",
            "100% 1.11G/1.11G [00:41<00:00, 28.8MB/s]\n"
          ]
        }
      ]
    },
    {
      "cell_type": "code",
      "source": [
        "import zipfile\n",
        "with zipfile.ZipFile('/content/stacksample.zip', 'r') as zip_ref:\n",
        "    zip_ref.extractall('/content/')"
      ],
      "metadata": {
        "id": "413Kqgf8j_Nz"
      },
      "execution_count": null,
      "outputs": []
    },
    {
      "cell_type": "code",
      "source": [
        "import pandas as pd\n",
        "import numpy as np\n",
        "import matplotlib.pyplot as plt"
      ],
      "metadata": {
        "id": "z7sTxF1jkKLg"
      },
      "execution_count": null,
      "outputs": []
    },
    {
      "cell_type": "code",
      "source": [
        "Qdf = pd.read_csv('/content/Questions.csv', encoding = \"ISO-8859-1\")\n",
        "Tdf = pd.read_csv('/content/Tags.csv', encoding = \"ISO-8859-1\")"
      ],
      "metadata": {
        "id": "PsfmXZFqkfGa"
      },
      "execution_count": null,
      "outputs": []
    },
    {
      "cell_type": "code",
      "source": [
        "Qdf1 = Qdf.copy()\n",
        "Tdf1 = Tdf.copy()"
      ],
      "metadata": {
        "id": "P6tXy1C_lSiF"
      },
      "execution_count": null,
      "outputs": []
    },
    {
      "cell_type": "code",
      "source": [
        "Qdf1.head()"
      ],
      "metadata": {
        "colab": {
          "base_uri": "https://localhost:8080/",
          "height": 293
        },
        "id": "ydFLGlyglxZg",
        "outputId": "035d9776-2a63-4a08-99ea-06fb8ff85a32"
      },
      "execution_count": null,
      "outputs": [
        {
          "output_type": "execute_result",
          "data": {
            "text/plain": [
              "    Id  OwnerUserId          CreationDate            ClosedDate  Score  \\\n",
              "0   80         26.0  2008-08-01T13:57:07Z                   NaN     26   \n",
              "1   90         58.0  2008-08-01T14:41:24Z  2012-12-26T03:45:49Z    144   \n",
              "2  120         83.0  2008-08-01T15:50:08Z                   NaN     21   \n",
              "3  180    2089740.0  2008-08-01T18:42:19Z                   NaN     53   \n",
              "4  260         91.0  2008-08-01T23:22:08Z                   NaN     49   \n",
              "\n",
              "                                               Title  \\\n",
              "0  SQLStatement.execute() - multiple queries in o...   \n",
              "1  Good branching and merging tutorials for Torto...   \n",
              "2                                  ASP.NET Site Maps   \n",
              "3                 Function for creating color wheels   \n",
              "4  Adding scripting functionality to .NET applica...   \n",
              "\n",
              "                                                Body  \n",
              "0  <p>I've written a database generation script i...  \n",
              "1  <p>Are there any really good tutorials explain...  \n",
              "2  <p>Has anyone got experience creating <strong>...  \n",
              "3  <p>This is something I've pseudo-solved many t...  \n",
              "4  <p>I have a little game written in C#. It uses...  "
            ],
            "text/html": [
              "\n",
              "  <div id=\"df-6d0e858d-bb82-47c7-9708-393ff5dbf0bb\" class=\"colab-df-container\">\n",
              "    <div>\n",
              "<style scoped>\n",
              "    .dataframe tbody tr th:only-of-type {\n",
              "        vertical-align: middle;\n",
              "    }\n",
              "\n",
              "    .dataframe tbody tr th {\n",
              "        vertical-align: top;\n",
              "    }\n",
              "\n",
              "    .dataframe thead th {\n",
              "        text-align: right;\n",
              "    }\n",
              "</style>\n",
              "<table border=\"1\" class=\"dataframe\">\n",
              "  <thead>\n",
              "    <tr style=\"text-align: right;\">\n",
              "      <th></th>\n",
              "      <th>Id</th>\n",
              "      <th>OwnerUserId</th>\n",
              "      <th>CreationDate</th>\n",
              "      <th>ClosedDate</th>\n",
              "      <th>Score</th>\n",
              "      <th>Title</th>\n",
              "      <th>Body</th>\n",
              "    </tr>\n",
              "  </thead>\n",
              "  <tbody>\n",
              "    <tr>\n",
              "      <th>0</th>\n",
              "      <td>80</td>\n",
              "      <td>26.0</td>\n",
              "      <td>2008-08-01T13:57:07Z</td>\n",
              "      <td>NaN</td>\n",
              "      <td>26</td>\n",
              "      <td>SQLStatement.execute() - multiple queries in o...</td>\n",
              "      <td>&lt;p&gt;I've written a database generation script i...</td>\n",
              "    </tr>\n",
              "    <tr>\n",
              "      <th>1</th>\n",
              "      <td>90</td>\n",
              "      <td>58.0</td>\n",
              "      <td>2008-08-01T14:41:24Z</td>\n",
              "      <td>2012-12-26T03:45:49Z</td>\n",
              "      <td>144</td>\n",
              "      <td>Good branching and merging tutorials for Torto...</td>\n",
              "      <td>&lt;p&gt;Are there any really good tutorials explain...</td>\n",
              "    </tr>\n",
              "    <tr>\n",
              "      <th>2</th>\n",
              "      <td>120</td>\n",
              "      <td>83.0</td>\n",
              "      <td>2008-08-01T15:50:08Z</td>\n",
              "      <td>NaN</td>\n",
              "      <td>21</td>\n",
              "      <td>ASP.NET Site Maps</td>\n",
              "      <td>&lt;p&gt;Has anyone got experience creating &lt;strong&gt;...</td>\n",
              "    </tr>\n",
              "    <tr>\n",
              "      <th>3</th>\n",
              "      <td>180</td>\n",
              "      <td>2089740.0</td>\n",
              "      <td>2008-08-01T18:42:19Z</td>\n",
              "      <td>NaN</td>\n",
              "      <td>53</td>\n",
              "      <td>Function for creating color wheels</td>\n",
              "      <td>&lt;p&gt;This is something I've pseudo-solved many t...</td>\n",
              "    </tr>\n",
              "    <tr>\n",
              "      <th>4</th>\n",
              "      <td>260</td>\n",
              "      <td>91.0</td>\n",
              "      <td>2008-08-01T23:22:08Z</td>\n",
              "      <td>NaN</td>\n",
              "      <td>49</td>\n",
              "      <td>Adding scripting functionality to .NET applica...</td>\n",
              "      <td>&lt;p&gt;I have a little game written in C#. It uses...</td>\n",
              "    </tr>\n",
              "  </tbody>\n",
              "</table>\n",
              "</div>\n",
              "    <div class=\"colab-df-buttons\">\n",
              "\n",
              "  <div class=\"colab-df-container\">\n",
              "    <button class=\"colab-df-convert\" onclick=\"convertToInteractive('df-6d0e858d-bb82-47c7-9708-393ff5dbf0bb')\"\n",
              "            title=\"Convert this dataframe to an interactive table.\"\n",
              "            style=\"display:none;\">\n",
              "\n",
              "  <svg xmlns=\"http://www.w3.org/2000/svg\" height=\"24px\" viewBox=\"0 -960 960 960\">\n",
              "    <path d=\"M120-120v-720h720v720H120Zm60-500h600v-160H180v160Zm220 220h160v-160H400v160Zm0 220h160v-160H400v160ZM180-400h160v-160H180v160Zm440 0h160v-160H620v160ZM180-180h160v-160H180v160Zm440 0h160v-160H620v160Z\"/>\n",
              "  </svg>\n",
              "    </button>\n",
              "\n",
              "  <style>\n",
              "    .colab-df-container {\n",
              "      display:flex;\n",
              "      gap: 12px;\n",
              "    }\n",
              "\n",
              "    .colab-df-convert {\n",
              "      background-color: #E8F0FE;\n",
              "      border: none;\n",
              "      border-radius: 50%;\n",
              "      cursor: pointer;\n",
              "      display: none;\n",
              "      fill: #1967D2;\n",
              "      height: 32px;\n",
              "      padding: 0 0 0 0;\n",
              "      width: 32px;\n",
              "    }\n",
              "\n",
              "    .colab-df-convert:hover {\n",
              "      background-color: #E2EBFA;\n",
              "      box-shadow: 0px 1px 2px rgba(60, 64, 67, 0.3), 0px 1px 3px 1px rgba(60, 64, 67, 0.15);\n",
              "      fill: #174EA6;\n",
              "    }\n",
              "\n",
              "    .colab-df-buttons div {\n",
              "      margin-bottom: 4px;\n",
              "    }\n",
              "\n",
              "    [theme=dark] .colab-df-convert {\n",
              "      background-color: #3B4455;\n",
              "      fill: #D2E3FC;\n",
              "    }\n",
              "\n",
              "    [theme=dark] .colab-df-convert:hover {\n",
              "      background-color: #434B5C;\n",
              "      box-shadow: 0px 1px 3px 1px rgba(0, 0, 0, 0.15);\n",
              "      filter: drop-shadow(0px 1px 2px rgba(0, 0, 0, 0.3));\n",
              "      fill: #FFFFFF;\n",
              "    }\n",
              "  </style>\n",
              "\n",
              "    <script>\n",
              "      const buttonEl =\n",
              "        document.querySelector('#df-6d0e858d-bb82-47c7-9708-393ff5dbf0bb button.colab-df-convert');\n",
              "      buttonEl.style.display =\n",
              "        google.colab.kernel.accessAllowed ? 'block' : 'none';\n",
              "\n",
              "      async function convertToInteractive(key) {\n",
              "        const element = document.querySelector('#df-6d0e858d-bb82-47c7-9708-393ff5dbf0bb');\n",
              "        const dataTable =\n",
              "          await google.colab.kernel.invokeFunction('convertToInteractive',\n",
              "                                                    [key], {});\n",
              "        if (!dataTable) return;\n",
              "\n",
              "        const docLinkHtml = 'Like what you see? Visit the ' +\n",
              "          '<a target=\"_blank\" href=https://colab.research.google.com/notebooks/data_table.ipynb>data table notebook</a>'\n",
              "          + ' to learn more about interactive tables.';\n",
              "        element.innerHTML = '';\n",
              "        dataTable['output_type'] = 'display_data';\n",
              "        await google.colab.output.renderOutput(dataTable, element);\n",
              "        const docLink = document.createElement('div');\n",
              "        docLink.innerHTML = docLinkHtml;\n",
              "        element.appendChild(docLink);\n",
              "      }\n",
              "    </script>\n",
              "  </div>\n",
              "\n",
              "\n",
              "<div id=\"df-4997ac0c-0f31-4d0f-8569-722b304899ee\">\n",
              "  <button class=\"colab-df-quickchart\" onclick=\"quickchart('df-4997ac0c-0f31-4d0f-8569-722b304899ee')\"\n",
              "            title=\"Suggest charts.\"\n",
              "            style=\"display:none;\">\n",
              "\n",
              "<svg xmlns=\"http://www.w3.org/2000/svg\" height=\"24px\"viewBox=\"0 0 24 24\"\n",
              "     width=\"24px\">\n",
              "    <g>\n",
              "        <path d=\"M19 3H5c-1.1 0-2 .9-2 2v14c0 1.1.9 2 2 2h14c1.1 0 2-.9 2-2V5c0-1.1-.9-2-2-2zM9 17H7v-7h2v7zm4 0h-2V7h2v10zm4 0h-2v-4h2v4z\"/>\n",
              "    </g>\n",
              "</svg>\n",
              "  </button>\n",
              "\n",
              "<style>\n",
              "  .colab-df-quickchart {\n",
              "    background-color: #E8F0FE;\n",
              "    border: none;\n",
              "    border-radius: 50%;\n",
              "    cursor: pointer;\n",
              "    display: none;\n",
              "    fill: #1967D2;\n",
              "    height: 32px;\n",
              "    padding: 0 0 0 0;\n",
              "    width: 32px;\n",
              "  }\n",
              "\n",
              "  .colab-df-quickchart:hover {\n",
              "    background-color: #E2EBFA;\n",
              "    box-shadow: 0px 1px 2px rgba(60, 64, 67, 0.3), 0px 1px 3px 1px rgba(60, 64, 67, 0.15);\n",
              "    fill: #174EA6;\n",
              "  }\n",
              "\n",
              "  [theme=dark] .colab-df-quickchart {\n",
              "    background-color: #3B4455;\n",
              "    fill: #D2E3FC;\n",
              "  }\n",
              "\n",
              "  [theme=dark] .colab-df-quickchart:hover {\n",
              "    background-color: #434B5C;\n",
              "    box-shadow: 0px 1px 3px 1px rgba(0, 0, 0, 0.15);\n",
              "    filter: drop-shadow(0px 1px 2px rgba(0, 0, 0, 0.3));\n",
              "    fill: #FFFFFF;\n",
              "  }\n",
              "</style>\n",
              "\n",
              "  <script>\n",
              "    async function quickchart(key) {\n",
              "      const charts = await google.colab.kernel.invokeFunction(\n",
              "          'suggestCharts', [key], {});\n",
              "    }\n",
              "    (() => {\n",
              "      let quickchartButtonEl =\n",
              "        document.querySelector('#df-4997ac0c-0f31-4d0f-8569-722b304899ee button');\n",
              "      quickchartButtonEl.style.display =\n",
              "        google.colab.kernel.accessAllowed ? 'block' : 'none';\n",
              "    })();\n",
              "  </script>\n",
              "</div>\n",
              "    </div>\n",
              "  </div>\n"
            ]
          },
          "metadata": {},
          "execution_count": 7
        }
      ]
    },
    {
      "cell_type": "code",
      "source": [
        "df1 = Qdf[:421405]\n",
        "df1.to_csv('QPart1.csv')"
      ],
      "metadata": {
        "id": "5jKCUJz2f1Ey"
      },
      "execution_count": null,
      "outputs": []
    },
    {
      "cell_type": "code",
      "source": [
        "Tdf1.head()"
      ],
      "metadata": {
        "colab": {
          "base_uri": "https://localhost:8080/",
          "height": 206
        },
        "id": "oZWO8pcElztz",
        "outputId": "0eef9b19-3222-4625-8412-9a64cf968268"
      },
      "execution_count": null,
      "outputs": [
        {
          "output_type": "execute_result",
          "data": {
            "text/plain": [
              "   Id             Tag\n",
              "0  80            flex\n",
              "1  80  actionscript-3\n",
              "2  80             air\n",
              "3  90             svn\n",
              "4  90     tortoisesvn"
            ],
            "text/html": [
              "\n",
              "  <div id=\"df-f93778b6-7f46-44be-99c4-28f25c89e67c\" class=\"colab-df-container\">\n",
              "    <div>\n",
              "<style scoped>\n",
              "    .dataframe tbody tr th:only-of-type {\n",
              "        vertical-align: middle;\n",
              "    }\n",
              "\n",
              "    .dataframe tbody tr th {\n",
              "        vertical-align: top;\n",
              "    }\n",
              "\n",
              "    .dataframe thead th {\n",
              "        text-align: right;\n",
              "    }\n",
              "</style>\n",
              "<table border=\"1\" class=\"dataframe\">\n",
              "  <thead>\n",
              "    <tr style=\"text-align: right;\">\n",
              "      <th></th>\n",
              "      <th>Id</th>\n",
              "      <th>Tag</th>\n",
              "    </tr>\n",
              "  </thead>\n",
              "  <tbody>\n",
              "    <tr>\n",
              "      <th>0</th>\n",
              "      <td>80</td>\n",
              "      <td>flex</td>\n",
              "    </tr>\n",
              "    <tr>\n",
              "      <th>1</th>\n",
              "      <td>80</td>\n",
              "      <td>actionscript-3</td>\n",
              "    </tr>\n",
              "    <tr>\n",
              "      <th>2</th>\n",
              "      <td>80</td>\n",
              "      <td>air</td>\n",
              "    </tr>\n",
              "    <tr>\n",
              "      <th>3</th>\n",
              "      <td>90</td>\n",
              "      <td>svn</td>\n",
              "    </tr>\n",
              "    <tr>\n",
              "      <th>4</th>\n",
              "      <td>90</td>\n",
              "      <td>tortoisesvn</td>\n",
              "    </tr>\n",
              "  </tbody>\n",
              "</table>\n",
              "</div>\n",
              "    <div class=\"colab-df-buttons\">\n",
              "\n",
              "  <div class=\"colab-df-container\">\n",
              "    <button class=\"colab-df-convert\" onclick=\"convertToInteractive('df-f93778b6-7f46-44be-99c4-28f25c89e67c')\"\n",
              "            title=\"Convert this dataframe to an interactive table.\"\n",
              "            style=\"display:none;\">\n",
              "\n",
              "  <svg xmlns=\"http://www.w3.org/2000/svg\" height=\"24px\" viewBox=\"0 -960 960 960\">\n",
              "    <path d=\"M120-120v-720h720v720H120Zm60-500h600v-160H180v160Zm220 220h160v-160H400v160Zm0 220h160v-160H400v160ZM180-400h160v-160H180v160Zm440 0h160v-160H620v160ZM180-180h160v-160H180v160Zm440 0h160v-160H620v160Z\"/>\n",
              "  </svg>\n",
              "    </button>\n",
              "\n",
              "  <style>\n",
              "    .colab-df-container {\n",
              "      display:flex;\n",
              "      gap: 12px;\n",
              "    }\n",
              "\n",
              "    .colab-df-convert {\n",
              "      background-color: #E8F0FE;\n",
              "      border: none;\n",
              "      border-radius: 50%;\n",
              "      cursor: pointer;\n",
              "      display: none;\n",
              "      fill: #1967D2;\n",
              "      height: 32px;\n",
              "      padding: 0 0 0 0;\n",
              "      width: 32px;\n",
              "    }\n",
              "\n",
              "    .colab-df-convert:hover {\n",
              "      background-color: #E2EBFA;\n",
              "      box-shadow: 0px 1px 2px rgba(60, 64, 67, 0.3), 0px 1px 3px 1px rgba(60, 64, 67, 0.15);\n",
              "      fill: #174EA6;\n",
              "    }\n",
              "\n",
              "    .colab-df-buttons div {\n",
              "      margin-bottom: 4px;\n",
              "    }\n",
              "\n",
              "    [theme=dark] .colab-df-convert {\n",
              "      background-color: #3B4455;\n",
              "      fill: #D2E3FC;\n",
              "    }\n",
              "\n",
              "    [theme=dark] .colab-df-convert:hover {\n",
              "      background-color: #434B5C;\n",
              "      box-shadow: 0px 1px 3px 1px rgba(0, 0, 0, 0.15);\n",
              "      filter: drop-shadow(0px 1px 2px rgba(0, 0, 0, 0.3));\n",
              "      fill: #FFFFFF;\n",
              "    }\n",
              "  </style>\n",
              "\n",
              "    <script>\n",
              "      const buttonEl =\n",
              "        document.querySelector('#df-f93778b6-7f46-44be-99c4-28f25c89e67c button.colab-df-convert');\n",
              "      buttonEl.style.display =\n",
              "        google.colab.kernel.accessAllowed ? 'block' : 'none';\n",
              "\n",
              "      async function convertToInteractive(key) {\n",
              "        const element = document.querySelector('#df-f93778b6-7f46-44be-99c4-28f25c89e67c');\n",
              "        const dataTable =\n",
              "          await google.colab.kernel.invokeFunction('convertToInteractive',\n",
              "                                                    [key], {});\n",
              "        if (!dataTable) return;\n",
              "\n",
              "        const docLinkHtml = 'Like what you see? Visit the ' +\n",
              "          '<a target=\"_blank\" href=https://colab.research.google.com/notebooks/data_table.ipynb>data table notebook</a>'\n",
              "          + ' to learn more about interactive tables.';\n",
              "        element.innerHTML = '';\n",
              "        dataTable['output_type'] = 'display_data';\n",
              "        await google.colab.output.renderOutput(dataTable, element);\n",
              "        const docLink = document.createElement('div');\n",
              "        docLink.innerHTML = docLinkHtml;\n",
              "        element.appendChild(docLink);\n",
              "      }\n",
              "    </script>\n",
              "  </div>\n",
              "\n",
              "\n",
              "<div id=\"df-bd2a8dd4-cb06-4d05-8474-2562845b40de\">\n",
              "  <button class=\"colab-df-quickchart\" onclick=\"quickchart('df-bd2a8dd4-cb06-4d05-8474-2562845b40de')\"\n",
              "            title=\"Suggest charts.\"\n",
              "            style=\"display:none;\">\n",
              "\n",
              "<svg xmlns=\"http://www.w3.org/2000/svg\" height=\"24px\"viewBox=\"0 0 24 24\"\n",
              "     width=\"24px\">\n",
              "    <g>\n",
              "        <path d=\"M19 3H5c-1.1 0-2 .9-2 2v14c0 1.1.9 2 2 2h14c1.1 0 2-.9 2-2V5c0-1.1-.9-2-2-2zM9 17H7v-7h2v7zm4 0h-2V7h2v10zm4 0h-2v-4h2v4z\"/>\n",
              "    </g>\n",
              "</svg>\n",
              "  </button>\n",
              "\n",
              "<style>\n",
              "  .colab-df-quickchart {\n",
              "    background-color: #E8F0FE;\n",
              "    border: none;\n",
              "    border-radius: 50%;\n",
              "    cursor: pointer;\n",
              "    display: none;\n",
              "    fill: #1967D2;\n",
              "    height: 32px;\n",
              "    padding: 0 0 0 0;\n",
              "    width: 32px;\n",
              "  }\n",
              "\n",
              "  .colab-df-quickchart:hover {\n",
              "    background-color: #E2EBFA;\n",
              "    box-shadow: 0px 1px 2px rgba(60, 64, 67, 0.3), 0px 1px 3px 1px rgba(60, 64, 67, 0.15);\n",
              "    fill: #174EA6;\n",
              "  }\n",
              "\n",
              "  [theme=dark] .colab-df-quickchart {\n",
              "    background-color: #3B4455;\n",
              "    fill: #D2E3FC;\n",
              "  }\n",
              "\n",
              "  [theme=dark] .colab-df-quickchart:hover {\n",
              "    background-color: #434B5C;\n",
              "    box-shadow: 0px 1px 3px 1px rgba(0, 0, 0, 0.15);\n",
              "    filter: drop-shadow(0px 1px 2px rgba(0, 0, 0, 0.3));\n",
              "    fill: #FFFFFF;\n",
              "  }\n",
              "</style>\n",
              "\n",
              "  <script>\n",
              "    async function quickchart(key) {\n",
              "      const charts = await google.colab.kernel.invokeFunction(\n",
              "          'suggestCharts', [key], {});\n",
              "    }\n",
              "    (() => {\n",
              "      let quickchartButtonEl =\n",
              "        document.querySelector('#df-bd2a8dd4-cb06-4d05-8474-2562845b40de button');\n",
              "      quickchartButtonEl.style.display =\n",
              "        google.colab.kernel.accessAllowed ? 'block' : 'none';\n",
              "    })();\n",
              "  </script>\n",
              "</div>\n",
              "    </div>\n",
              "  </div>\n"
            ]
          },
          "metadata": {},
          "execution_count": 8
        }
      ]
    },
    {
      "cell_type": "code",
      "source": [
        "Qdf1.shape , Tdf1.shape"
      ],
      "metadata": {
        "colab": {
          "base_uri": "https://localhost:8080/"
        },
        "id": "9yHEuBgWl1OK",
        "outputId": "5a4f26d8-5298-488d-eb1b-c1cef0f4928d"
      },
      "execution_count": null,
      "outputs": [
        {
          "output_type": "execute_result",
          "data": {
            "text/plain": [
              "((1264216, 7), (3750994, 2))"
            ]
          },
          "metadata": {},
          "execution_count": 9
        }
      ]
    },
    {
      "cell_type": "code",
      "source": [
        "Qdf1.columns"
      ],
      "metadata": {
        "colab": {
          "base_uri": "https://localhost:8080/"
        },
        "id": "_ta-pnuBl9Ki",
        "outputId": "5e803f97-6100-4e6e-9c8f-f54cb6fe2542"
      },
      "execution_count": null,
      "outputs": [
        {
          "output_type": "execute_result",
          "data": {
            "text/plain": [
              "Index(['Id', 'OwnerUserId', 'CreationDate', 'ClosedDate', 'Score', 'Title',\n",
              "       'Body'],\n",
              "      dtype='object')"
            ]
          },
          "metadata": {},
          "execution_count": 10
        }
      ]
    },
    {
      "cell_type": "code",
      "source": [
        "Qdf1 = Qdf1.drop(['OwnerUserId', 'CreationDate', 'ClosedDate'],axis=1)"
      ],
      "metadata": {
        "id": "uDtxul4DmEYK"
      },
      "execution_count": null,
      "outputs": []
    },
    {
      "cell_type": "code",
      "source": [
        "Tdf1['Tag'] = Tdf1['Tag'].astype(str)\n",
        "grouped_tags = Tdf1.groupby(\"Id\")['Tag'].apply(lambda tags: ' '.join(tags))\n",
        "grouped_tags.head(5)"
      ],
      "metadata": {
        "colab": {
          "base_uri": "https://localhost:8080/"
        },
        "id": "9P7hedu6mWVT",
        "outputId": "37e37001-01c8-4115-d928-0db8de6159a5"
      },
      "execution_count": null,
      "outputs": [
        {
          "output_type": "execute_result",
          "data": {
            "text/plain": [
              "Id\n",
              "80                            flex actionscript-3 air\n",
              "90       svn tortoisesvn branch branching-and-merging\n",
              "120                               sql asp.net sitemap\n",
              "180    algorithm language-agnostic colors color-space\n",
              "260           c# .net scripting compiler-construction\n",
              "Name: Tag, dtype: object"
            ]
          },
          "metadata": {},
          "execution_count": 12
        }
      ]
    },
    {
      "cell_type": "code",
      "source": [
        "grouped_tags.reset_index()"
      ],
      "metadata": {
        "colab": {
          "base_uri": "https://localhost:8080/",
          "height": 423
        },
        "id": "A1S-8nOzmjWS",
        "outputId": "afbf12dc-e6e2-4420-c42b-6209c8c064a7"
      },
      "execution_count": null,
      "outputs": [
        {
          "output_type": "execute_result",
          "data": {
            "text/plain": [
              "               Id                                             Tag\n",
              "0              80                         flex actionscript-3 air\n",
              "1              90    svn tortoisesvn branch branching-and-merging\n",
              "2             120                             sql asp.net sitemap\n",
              "3             180  algorithm language-agnostic colors color-space\n",
              "4             260         c# .net scripting compiler-construction\n",
              "...           ...                                             ...\n",
              "1264211  40143210                                   php .htaccess\n",
              "1264212  40143300                                 google-bigquery\n",
              "1264213  40143340                          android android-studio\n",
              "1264214  40143360                               javascript vue.js\n",
              "1264215  40143380                                 npm mocha babel\n",
              "\n",
              "[1264216 rows x 2 columns]"
            ],
            "text/html": [
              "\n",
              "  <div id=\"df-ef9ace0d-9319-4a0d-b7b8-91a6068caa15\" class=\"colab-df-container\">\n",
              "    <div>\n",
              "<style scoped>\n",
              "    .dataframe tbody tr th:only-of-type {\n",
              "        vertical-align: middle;\n",
              "    }\n",
              "\n",
              "    .dataframe tbody tr th {\n",
              "        vertical-align: top;\n",
              "    }\n",
              "\n",
              "    .dataframe thead th {\n",
              "        text-align: right;\n",
              "    }\n",
              "</style>\n",
              "<table border=\"1\" class=\"dataframe\">\n",
              "  <thead>\n",
              "    <tr style=\"text-align: right;\">\n",
              "      <th></th>\n",
              "      <th>Id</th>\n",
              "      <th>Tag</th>\n",
              "    </tr>\n",
              "  </thead>\n",
              "  <tbody>\n",
              "    <tr>\n",
              "      <th>0</th>\n",
              "      <td>80</td>\n",
              "      <td>flex actionscript-3 air</td>\n",
              "    </tr>\n",
              "    <tr>\n",
              "      <th>1</th>\n",
              "      <td>90</td>\n",
              "      <td>svn tortoisesvn branch branching-and-merging</td>\n",
              "    </tr>\n",
              "    <tr>\n",
              "      <th>2</th>\n",
              "      <td>120</td>\n",
              "      <td>sql asp.net sitemap</td>\n",
              "    </tr>\n",
              "    <tr>\n",
              "      <th>3</th>\n",
              "      <td>180</td>\n",
              "      <td>algorithm language-agnostic colors color-space</td>\n",
              "    </tr>\n",
              "    <tr>\n",
              "      <th>4</th>\n",
              "      <td>260</td>\n",
              "      <td>c# .net scripting compiler-construction</td>\n",
              "    </tr>\n",
              "    <tr>\n",
              "      <th>...</th>\n",
              "      <td>...</td>\n",
              "      <td>...</td>\n",
              "    </tr>\n",
              "    <tr>\n",
              "      <th>1264211</th>\n",
              "      <td>40143210</td>\n",
              "      <td>php .htaccess</td>\n",
              "    </tr>\n",
              "    <tr>\n",
              "      <th>1264212</th>\n",
              "      <td>40143300</td>\n",
              "      <td>google-bigquery</td>\n",
              "    </tr>\n",
              "    <tr>\n",
              "      <th>1264213</th>\n",
              "      <td>40143340</td>\n",
              "      <td>android android-studio</td>\n",
              "    </tr>\n",
              "    <tr>\n",
              "      <th>1264214</th>\n",
              "      <td>40143360</td>\n",
              "      <td>javascript vue.js</td>\n",
              "    </tr>\n",
              "    <tr>\n",
              "      <th>1264215</th>\n",
              "      <td>40143380</td>\n",
              "      <td>npm mocha babel</td>\n",
              "    </tr>\n",
              "  </tbody>\n",
              "</table>\n",
              "<p>1264216 rows × 2 columns</p>\n",
              "</div>\n",
              "    <div class=\"colab-df-buttons\">\n",
              "\n",
              "  <div class=\"colab-df-container\">\n",
              "    <button class=\"colab-df-convert\" onclick=\"convertToInteractive('df-ef9ace0d-9319-4a0d-b7b8-91a6068caa15')\"\n",
              "            title=\"Convert this dataframe to an interactive table.\"\n",
              "            style=\"display:none;\">\n",
              "\n",
              "  <svg xmlns=\"http://www.w3.org/2000/svg\" height=\"24px\" viewBox=\"0 -960 960 960\">\n",
              "    <path d=\"M120-120v-720h720v720H120Zm60-500h600v-160H180v160Zm220 220h160v-160H400v160Zm0 220h160v-160H400v160ZM180-400h160v-160H180v160Zm440 0h160v-160H620v160ZM180-180h160v-160H180v160Zm440 0h160v-160H620v160Z\"/>\n",
              "  </svg>\n",
              "    </button>\n",
              "\n",
              "  <style>\n",
              "    .colab-df-container {\n",
              "      display:flex;\n",
              "      gap: 12px;\n",
              "    }\n",
              "\n",
              "    .colab-df-convert {\n",
              "      background-color: #E8F0FE;\n",
              "      border: none;\n",
              "      border-radius: 50%;\n",
              "      cursor: pointer;\n",
              "      display: none;\n",
              "      fill: #1967D2;\n",
              "      height: 32px;\n",
              "      padding: 0 0 0 0;\n",
              "      width: 32px;\n",
              "    }\n",
              "\n",
              "    .colab-df-convert:hover {\n",
              "      background-color: #E2EBFA;\n",
              "      box-shadow: 0px 1px 2px rgba(60, 64, 67, 0.3), 0px 1px 3px 1px rgba(60, 64, 67, 0.15);\n",
              "      fill: #174EA6;\n",
              "    }\n",
              "\n",
              "    .colab-df-buttons div {\n",
              "      margin-bottom: 4px;\n",
              "    }\n",
              "\n",
              "    [theme=dark] .colab-df-convert {\n",
              "      background-color: #3B4455;\n",
              "      fill: #D2E3FC;\n",
              "    }\n",
              "\n",
              "    [theme=dark] .colab-df-convert:hover {\n",
              "      background-color: #434B5C;\n",
              "      box-shadow: 0px 1px 3px 1px rgba(0, 0, 0, 0.15);\n",
              "      filter: drop-shadow(0px 1px 2px rgba(0, 0, 0, 0.3));\n",
              "      fill: #FFFFFF;\n",
              "    }\n",
              "  </style>\n",
              "\n",
              "    <script>\n",
              "      const buttonEl =\n",
              "        document.querySelector('#df-ef9ace0d-9319-4a0d-b7b8-91a6068caa15 button.colab-df-convert');\n",
              "      buttonEl.style.display =\n",
              "        google.colab.kernel.accessAllowed ? 'block' : 'none';\n",
              "\n",
              "      async function convertToInteractive(key) {\n",
              "        const element = document.querySelector('#df-ef9ace0d-9319-4a0d-b7b8-91a6068caa15');\n",
              "        const dataTable =\n",
              "          await google.colab.kernel.invokeFunction('convertToInteractive',\n",
              "                                                    [key], {});\n",
              "        if (!dataTable) return;\n",
              "\n",
              "        const docLinkHtml = 'Like what you see? Visit the ' +\n",
              "          '<a target=\"_blank\" href=https://colab.research.google.com/notebooks/data_table.ipynb>data table notebook</a>'\n",
              "          + ' to learn more about interactive tables.';\n",
              "        element.innerHTML = '';\n",
              "        dataTable['output_type'] = 'display_data';\n",
              "        await google.colab.output.renderOutput(dataTable, element);\n",
              "        const docLink = document.createElement('div');\n",
              "        docLink.innerHTML = docLinkHtml;\n",
              "        element.appendChild(docLink);\n",
              "      }\n",
              "    </script>\n",
              "  </div>\n",
              "\n",
              "\n",
              "<div id=\"df-b84f0f52-687e-42e0-81f6-d61aaff46625\">\n",
              "  <button class=\"colab-df-quickchart\" onclick=\"quickchart('df-b84f0f52-687e-42e0-81f6-d61aaff46625')\"\n",
              "            title=\"Suggest charts.\"\n",
              "            style=\"display:none;\">\n",
              "\n",
              "<svg xmlns=\"http://www.w3.org/2000/svg\" height=\"24px\"viewBox=\"0 0 24 24\"\n",
              "     width=\"24px\">\n",
              "    <g>\n",
              "        <path d=\"M19 3H5c-1.1 0-2 .9-2 2v14c0 1.1.9 2 2 2h14c1.1 0 2-.9 2-2V5c0-1.1-.9-2-2-2zM9 17H7v-7h2v7zm4 0h-2V7h2v10zm4 0h-2v-4h2v4z\"/>\n",
              "    </g>\n",
              "</svg>\n",
              "  </button>\n",
              "\n",
              "<style>\n",
              "  .colab-df-quickchart {\n",
              "    background-color: #E8F0FE;\n",
              "    border: none;\n",
              "    border-radius: 50%;\n",
              "    cursor: pointer;\n",
              "    display: none;\n",
              "    fill: #1967D2;\n",
              "    height: 32px;\n",
              "    padding: 0 0 0 0;\n",
              "    width: 32px;\n",
              "  }\n",
              "\n",
              "  .colab-df-quickchart:hover {\n",
              "    background-color: #E2EBFA;\n",
              "    box-shadow: 0px 1px 2px rgba(60, 64, 67, 0.3), 0px 1px 3px 1px rgba(60, 64, 67, 0.15);\n",
              "    fill: #174EA6;\n",
              "  }\n",
              "\n",
              "  [theme=dark] .colab-df-quickchart {\n",
              "    background-color: #3B4455;\n",
              "    fill: #D2E3FC;\n",
              "  }\n",
              "\n",
              "  [theme=dark] .colab-df-quickchart:hover {\n",
              "    background-color: #434B5C;\n",
              "    box-shadow: 0px 1px 3px 1px rgba(0, 0, 0, 0.15);\n",
              "    filter: drop-shadow(0px 1px 2px rgba(0, 0, 0, 0.3));\n",
              "    fill: #FFFFFF;\n",
              "  }\n",
              "</style>\n",
              "\n",
              "  <script>\n",
              "    async function quickchart(key) {\n",
              "      const charts = await google.colab.kernel.invokeFunction(\n",
              "          'suggestCharts', [key], {});\n",
              "    }\n",
              "    (() => {\n",
              "      let quickchartButtonEl =\n",
              "        document.querySelector('#df-b84f0f52-687e-42e0-81f6-d61aaff46625 button');\n",
              "      quickchartButtonEl.style.display =\n",
              "        google.colab.kernel.accessAllowed ? 'block' : 'none';\n",
              "    })();\n",
              "  </script>\n",
              "</div>\n",
              "    </div>\n",
              "  </div>\n"
            ]
          },
          "metadata": {},
          "execution_count": 13
        }
      ]
    },
    {
      "cell_type": "code",
      "source": [
        "grouped_tags_final = pd.DataFrame({'Id':grouped_tags.index, 'Tags':grouped_tags.values})\n",
        "grouped_tags_final.head()"
      ],
      "metadata": {
        "colab": {
          "base_uri": "https://localhost:8080/",
          "height": 206
        },
        "id": "7ssoRgtnmnlm",
        "outputId": "f547e930-29a8-464d-ed3f-d3341ec9ac89"
      },
      "execution_count": null,
      "outputs": [
        {
          "output_type": "execute_result",
          "data": {
            "text/plain": [
              "    Id                                            Tags\n",
              "0   80                         flex actionscript-3 air\n",
              "1   90    svn tortoisesvn branch branching-and-merging\n",
              "2  120                             sql asp.net sitemap\n",
              "3  180  algorithm language-agnostic colors color-space\n",
              "4  260         c# .net scripting compiler-construction"
            ],
            "text/html": [
              "\n",
              "  <div id=\"df-e9344864-aaf8-49c4-ab37-8de18952a463\" class=\"colab-df-container\">\n",
              "    <div>\n",
              "<style scoped>\n",
              "    .dataframe tbody tr th:only-of-type {\n",
              "        vertical-align: middle;\n",
              "    }\n",
              "\n",
              "    .dataframe tbody tr th {\n",
              "        vertical-align: top;\n",
              "    }\n",
              "\n",
              "    .dataframe thead th {\n",
              "        text-align: right;\n",
              "    }\n",
              "</style>\n",
              "<table border=\"1\" class=\"dataframe\">\n",
              "  <thead>\n",
              "    <tr style=\"text-align: right;\">\n",
              "      <th></th>\n",
              "      <th>Id</th>\n",
              "      <th>Tags</th>\n",
              "    </tr>\n",
              "  </thead>\n",
              "  <tbody>\n",
              "    <tr>\n",
              "      <th>0</th>\n",
              "      <td>80</td>\n",
              "      <td>flex actionscript-3 air</td>\n",
              "    </tr>\n",
              "    <tr>\n",
              "      <th>1</th>\n",
              "      <td>90</td>\n",
              "      <td>svn tortoisesvn branch branching-and-merging</td>\n",
              "    </tr>\n",
              "    <tr>\n",
              "      <th>2</th>\n",
              "      <td>120</td>\n",
              "      <td>sql asp.net sitemap</td>\n",
              "    </tr>\n",
              "    <tr>\n",
              "      <th>3</th>\n",
              "      <td>180</td>\n",
              "      <td>algorithm language-agnostic colors color-space</td>\n",
              "    </tr>\n",
              "    <tr>\n",
              "      <th>4</th>\n",
              "      <td>260</td>\n",
              "      <td>c# .net scripting compiler-construction</td>\n",
              "    </tr>\n",
              "  </tbody>\n",
              "</table>\n",
              "</div>\n",
              "    <div class=\"colab-df-buttons\">\n",
              "\n",
              "  <div class=\"colab-df-container\">\n",
              "    <button class=\"colab-df-convert\" onclick=\"convertToInteractive('df-e9344864-aaf8-49c4-ab37-8de18952a463')\"\n",
              "            title=\"Convert this dataframe to an interactive table.\"\n",
              "            style=\"display:none;\">\n",
              "\n",
              "  <svg xmlns=\"http://www.w3.org/2000/svg\" height=\"24px\" viewBox=\"0 -960 960 960\">\n",
              "    <path d=\"M120-120v-720h720v720H120Zm60-500h600v-160H180v160Zm220 220h160v-160H400v160Zm0 220h160v-160H400v160ZM180-400h160v-160H180v160Zm440 0h160v-160H620v160ZM180-180h160v-160H180v160Zm440 0h160v-160H620v160Z\"/>\n",
              "  </svg>\n",
              "    </button>\n",
              "\n",
              "  <style>\n",
              "    .colab-df-container {\n",
              "      display:flex;\n",
              "      gap: 12px;\n",
              "    }\n",
              "\n",
              "    .colab-df-convert {\n",
              "      background-color: #E8F0FE;\n",
              "      border: none;\n",
              "      border-radius: 50%;\n",
              "      cursor: pointer;\n",
              "      display: none;\n",
              "      fill: #1967D2;\n",
              "      height: 32px;\n",
              "      padding: 0 0 0 0;\n",
              "      width: 32px;\n",
              "    }\n",
              "\n",
              "    .colab-df-convert:hover {\n",
              "      background-color: #E2EBFA;\n",
              "      box-shadow: 0px 1px 2px rgba(60, 64, 67, 0.3), 0px 1px 3px 1px rgba(60, 64, 67, 0.15);\n",
              "      fill: #174EA6;\n",
              "    }\n",
              "\n",
              "    .colab-df-buttons div {\n",
              "      margin-bottom: 4px;\n",
              "    }\n",
              "\n",
              "    [theme=dark] .colab-df-convert {\n",
              "      background-color: #3B4455;\n",
              "      fill: #D2E3FC;\n",
              "    }\n",
              "\n",
              "    [theme=dark] .colab-df-convert:hover {\n",
              "      background-color: #434B5C;\n",
              "      box-shadow: 0px 1px 3px 1px rgba(0, 0, 0, 0.15);\n",
              "      filter: drop-shadow(0px 1px 2px rgba(0, 0, 0, 0.3));\n",
              "      fill: #FFFFFF;\n",
              "    }\n",
              "  </style>\n",
              "\n",
              "    <script>\n",
              "      const buttonEl =\n",
              "        document.querySelector('#df-e9344864-aaf8-49c4-ab37-8de18952a463 button.colab-df-convert');\n",
              "      buttonEl.style.display =\n",
              "        google.colab.kernel.accessAllowed ? 'block' : 'none';\n",
              "\n",
              "      async function convertToInteractive(key) {\n",
              "        const element = document.querySelector('#df-e9344864-aaf8-49c4-ab37-8de18952a463');\n",
              "        const dataTable =\n",
              "          await google.colab.kernel.invokeFunction('convertToInteractive',\n",
              "                                                    [key], {});\n",
              "        if (!dataTable) return;\n",
              "\n",
              "        const docLinkHtml = 'Like what you see? Visit the ' +\n",
              "          '<a target=\"_blank\" href=https://colab.research.google.com/notebooks/data_table.ipynb>data table notebook</a>'\n",
              "          + ' to learn more about interactive tables.';\n",
              "        element.innerHTML = '';\n",
              "        dataTable['output_type'] = 'display_data';\n",
              "        await google.colab.output.renderOutput(dataTable, element);\n",
              "        const docLink = document.createElement('div');\n",
              "        docLink.innerHTML = docLinkHtml;\n",
              "        element.appendChild(docLink);\n",
              "      }\n",
              "    </script>\n",
              "  </div>\n",
              "\n",
              "\n",
              "<div id=\"df-b911c6f7-71b6-46d1-acb2-7bb3bcc39938\">\n",
              "  <button class=\"colab-df-quickchart\" onclick=\"quickchart('df-b911c6f7-71b6-46d1-acb2-7bb3bcc39938')\"\n",
              "            title=\"Suggest charts.\"\n",
              "            style=\"display:none;\">\n",
              "\n",
              "<svg xmlns=\"http://www.w3.org/2000/svg\" height=\"24px\"viewBox=\"0 0 24 24\"\n",
              "     width=\"24px\">\n",
              "    <g>\n",
              "        <path d=\"M19 3H5c-1.1 0-2 .9-2 2v14c0 1.1.9 2 2 2h14c1.1 0 2-.9 2-2V5c0-1.1-.9-2-2-2zM9 17H7v-7h2v7zm4 0h-2V7h2v10zm4 0h-2v-4h2v4z\"/>\n",
              "    </g>\n",
              "</svg>\n",
              "  </button>\n",
              "\n",
              "<style>\n",
              "  .colab-df-quickchart {\n",
              "    background-color: #E8F0FE;\n",
              "    border: none;\n",
              "    border-radius: 50%;\n",
              "    cursor: pointer;\n",
              "    display: none;\n",
              "    fill: #1967D2;\n",
              "    height: 32px;\n",
              "    padding: 0 0 0 0;\n",
              "    width: 32px;\n",
              "  }\n",
              "\n",
              "  .colab-df-quickchart:hover {\n",
              "    background-color: #E2EBFA;\n",
              "    box-shadow: 0px 1px 2px rgba(60, 64, 67, 0.3), 0px 1px 3px 1px rgba(60, 64, 67, 0.15);\n",
              "    fill: #174EA6;\n",
              "  }\n",
              "\n",
              "  [theme=dark] .colab-df-quickchart {\n",
              "    background-color: #3B4455;\n",
              "    fill: #D2E3FC;\n",
              "  }\n",
              "\n",
              "  [theme=dark] .colab-df-quickchart:hover {\n",
              "    background-color: #434B5C;\n",
              "    box-shadow: 0px 1px 3px 1px rgba(0, 0, 0, 0.15);\n",
              "    filter: drop-shadow(0px 1px 2px rgba(0, 0, 0, 0.3));\n",
              "    fill: #FFFFFF;\n",
              "  }\n",
              "</style>\n",
              "\n",
              "  <script>\n",
              "    async function quickchart(key) {\n",
              "      const charts = await google.colab.kernel.invokeFunction(\n",
              "          'suggestCharts', [key], {});\n",
              "    }\n",
              "    (() => {\n",
              "      let quickchartButtonEl =\n",
              "        document.querySelector('#df-b911c6f7-71b6-46d1-acb2-7bb3bcc39938 button');\n",
              "      quickchartButtonEl.style.display =\n",
              "        google.colab.kernel.accessAllowed ? 'block' : 'none';\n",
              "    })();\n",
              "  </script>\n",
              "</div>\n",
              "    </div>\n",
              "  </div>\n"
            ]
          },
          "metadata": {},
          "execution_count": 17
        }
      ]
    },
    {
      "cell_type": "code",
      "source": [
        "import pandas as pd\n",
        "from wordcloud import WordCloud\n",
        "import matplotlib.pyplot as plt"
      ],
      "metadata": {
        "id": "ohW9ixatvNYY"
      },
      "execution_count": null,
      "outputs": []
    },
    {
      "cell_type": "code",
      "source": [
        "# Combine all tags into a single string\n",
        "all_tags = ' '.join(grouped_tags_final['Tags'])"
      ],
      "metadata": {
        "id": "t_-taPE_vPls"
      },
      "execution_count": null,
      "outputs": []
    },
    {
      "cell_type": "markdown",
      "source": [
        "## EDA"
      ],
      "metadata": {
        "id": "hVZLbC9E_DtK"
      }
    },
    {
      "cell_type": "code",
      "source": [
        "wordcloud = WordCloud(width=800, height=400, background_color='white').generate(all_tags)\n",
        "\n",
        "plt.figure(figsize=(10, 5))\n",
        "plt.imshow(wordcloud, interpolation='bilinear')\n",
        "plt.axis('off')\n",
        "plt.show()"
      ],
      "metadata": {
        "colab": {
          "base_uri": "https://localhost:8080/",
          "height": 422
        },
        "id": "JlGSMfNhvfQK",
        "outputId": "2769ccef-8213-4a06-a987-da259153fb1a"
      },
      "execution_count": null,
      "outputs": [
        {
          "output_type": "display_data",
          "data": {
            "text/plain": [
              "<Figure size 1000x500 with 1 Axes>"
            ],
            "image/png": "[encoded data removed]"
          },
          "metadata": {}
        }
      ]
    },
    {
      "cell_type": "code",
      "source": [
        "all_tags = grouped_tags_final['Tags'].str.split(', ').explode()\n",
        "tag_counts = all_tags.value_counts()"
      ],
      "metadata": {
        "id": "SAkxz3nhzjZU"
      },
      "execution_count": null,
      "outputs": []
    },
    {
      "cell_type": "code",
      "source": [
        "plt.figure(figsize=(12, 6))\n",
        "tag_counts[:20].plot(kind='bar', color='black')\n",
        "plt.title('Top 20 Tag Frequencies')\n",
        "plt.xlabel('Tag')\n",
        "plt.ylabel('Frequency')\n",
        "plt.xticks(rotation=45)\n",
        "plt.tight_layout()\n",
        "plt.show()"
      ],
      "metadata": {
        "colab": {
          "base_uri": "https://localhost:8080/",
          "height": 571
        },
        "id": "9MiobpHQ0LIM",
        "outputId": "134cc6c7-f0f9-4d72-92b4-d8480741862b"
      },
      "execution_count": null,
      "outputs": [
        {
          "output_type": "display_data",
          "data": {
            "text/plain": [
              "<Figure size 1200x600 with 1 Axes>"
            ],
            "image/png": "[encoded data removed]"
          },
          "metadata": {}
        }
      ]
    },
    {
      "cell_type": "markdown",
      "source": [
        "## Data Preprocessing"
      ],
      "metadata": {
        "id": "JQ2JqA1Z_GsK"
      }
    },
    {
      "cell_type": "code",
      "source": [
        "df = Qdf1.merge(grouped_tags_final, on='Id')\n",
        "df.head(5)"
      ],
      "metadata": {
        "colab": {
          "base_uri": "https://localhost:8080/",
          "height": 206
        },
        "id": "xOD7t9v1m08q",
        "outputId": "e4cfafc3-860f-4050-b59b-9099743e1971"
      },
      "execution_count": null,
      "outputs": [
        {
          "output_type": "execute_result",
          "data": {
            "text/plain": [
              "    Id  Score                                              Title  \\\n",
              "0   80     26  SQLStatement.execute() - multiple queries in o...   \n",
              "1   90    144  Good branching and merging tutorials for Torto...   \n",
              "2  120     21                                  ASP.NET Site Maps   \n",
              "3  180     53                 Function for creating color wheels   \n",
              "4  260     49  Adding scripting functionality to .NET applica...   \n",
              "\n",
              "                                                Body  \\\n",
              "0  <p>I've written a database generation script i...   \n",
              "1  <p>Are there any really good tutorials explain...   \n",
              "2  <p>Has anyone got experience creating <strong>...   \n",
              "3  <p>This is something I've pseudo-solved many t...   \n",
              "4  <p>I have a little game written in C#. It uses...   \n",
              "\n",
              "                                             Tags  \n",
              "0                         flex actionscript-3 air  \n",
              "1    svn tortoisesvn branch branching-and-merging  \n",
              "2                             sql asp.net sitemap  \n",
              "3  algorithm language-agnostic colors color-space  \n",
              "4         c# .net scripting compiler-construction  "
            ],
            "text/html": [
              "\n",
              "  <div id=\"df-eb1cac11-b399-4ab6-8741-20067f140324\" class=\"colab-df-container\">\n",
              "    <div>\n",
              "<style scoped>\n",
              "    .dataframe tbody tr th:only-of-type {\n",
              "        vertical-align: middle;\n",
              "    }\n",
              "\n",
              "    .dataframe tbody tr th {\n",
              "        vertical-align: top;\n",
              "    }\n",
              "\n",
              "    .dataframe thead th {\n",
              "        text-align: right;\n",
              "    }\n",
              "</style>\n",
              "<table border=\"1\" class=\"dataframe\">\n",
              "  <thead>\n",
              "    <tr style=\"text-align: right;\">\n",
              "      <th></th>\n",
              "      <th>Id</th>\n",
              "      <th>Score</th>\n",
              "      <th>Title</th>\n",
              "      <th>Body</th>\n",
              "      <th>Tags</th>\n",
              "    </tr>\n",
              "  </thead>\n",
              "  <tbody>\n",
              "    <tr>\n",
              "      <th>0</th>\n",
              "      <td>80</td>\n",
              "      <td>26</td>\n",
              "      <td>SQLStatement.execute() - multiple queries in o...</td>\n",
              "      <td>&lt;p&gt;I've written a database generation script i...</td>\n",
              "      <td>flex actionscript-3 air</td>\n",
              "    </tr>\n",
              "    <tr>\n",
              "      <th>1</th>\n",
              "      <td>90</td>\n",
              "      <td>144</td>\n",
              "      <td>Good branching and merging tutorials for Torto...</td>\n",
              "      <td>&lt;p&gt;Are there any really good tutorials explain...</td>\n",
              "      <td>svn tortoisesvn branch branching-and-merging</td>\n",
              "    </tr>\n",
              "    <tr>\n",
              "      <th>2</th>\n",
              "      <td>120</td>\n",
              "      <td>21</td>\n",
              "      <td>ASP.NET Site Maps</td>\n",
              "      <td>&lt;p&gt;Has anyone got experience creating &lt;strong&gt;...</td>\n",
              "      <td>sql asp.net sitemap</td>\n",
              "    </tr>\n",
              "    <tr>\n",
              "      <th>3</th>\n",
              "      <td>180</td>\n",
              "      <td>53</td>\n",
              "      <td>Function for creating color wheels</td>\n",
              "      <td>&lt;p&gt;This is something I've pseudo-solved many t...</td>\n",
              "      <td>algorithm language-agnostic colors color-space</td>\n",
              "    </tr>\n",
              "    <tr>\n",
              "      <th>4</th>\n",
              "      <td>260</td>\n",
              "      <td>49</td>\n",
              "      <td>Adding scripting functionality to .NET applica...</td>\n",
              "      <td>&lt;p&gt;I have a little game written in C#. It uses...</td>\n",
              "      <td>c# .net scripting compiler-construction</td>\n",
              "    </tr>\n",
              "  </tbody>\n",
              "</table>\n",
              "</div>\n",
              "    <div class=\"colab-df-buttons\">\n",
              "\n",
              "  <div class=\"colab-df-container\">\n",
              "    <button class=\"colab-df-convert\" onclick=\"convertToInteractive('df-eb1cac11-b399-4ab6-8741-20067f140324')\"\n",
              "            title=\"Convert this dataframe to an interactive table.\"\n",
              "            style=\"display:none;\">\n",
              "\n",
              "  <svg xmlns=\"http://www.w3.org/2000/svg\" height=\"24px\" viewBox=\"0 -960 960 960\">\n",
              "    <path d=\"M120-120v-720h720v720H120Zm60-500h600v-160H180v160Zm220 220h160v-160H400v160Zm0 220h160v-160H400v160ZM180-400h160v-160H180v160Zm440 0h160v-160H620v160ZM180-180h160v-160H180v160Zm440 0h160v-160H620v160Z\"/>\n",
              "  </svg>\n",
              "    </button>\n",
              "\n",
              "  <style>\n",
              "    .colab-df-container {\n",
              "      display:flex;\n",
              "      gap: 12px;\n",
              "    }\n",
              "\n",
              "    .colab-df-convert {\n",
              "      background-color: #E8F0FE;\n",
              "      border: none;\n",
              "      border-radius: 50%;\n",
              "      cursor: pointer;\n",
              "      display: none;\n",
              "      fill: #1967D2;\n",
              "      height: 32px;\n",
              "      padding: 0 0 0 0;\n",
              "      width: 32px;\n",
              "    }\n",
              "\n",
              "    .colab-df-convert:hover {\n",
              "      background-color: #E2EBFA;\n",
              "      box-shadow: 0px 1px 2px rgba(60, 64, 67, 0.3), 0px 1px 3px 1px rgba(60, 64, 67, 0.15);\n",
              "      fill: #174EA6;\n",
              "    }\n",
              "\n",
              "    .colab-df-buttons div {\n",
              "      margin-bottom: 4px;\n",
              "    }\n",
              "\n",
              "    [theme=dark] .colab-df-convert {\n",
              "      background-color: #3B4455;\n",
              "      fill: #D2E3FC;\n",
              "    }\n",
              "\n",
              "    [theme=dark] .colab-df-convert:hover {\n",
              "      background-color: #434B5C;\n",
              "      box-shadow: 0px 1px 3px 1px rgba(0, 0, 0, 0.15);\n",
              "      filter: drop-shadow(0px 1px 2px rgba(0, 0, 0, 0.3));\n",
              "      fill: #FFFFFF;\n",
              "    }\n",
              "  </style>\n",
              "\n",
              "    <script>\n",
              "      const buttonEl =\n",
              "        document.querySelector('#df-eb1cac11-b399-4ab6-8741-20067f140324 button.colab-df-convert');\n",
              "      buttonEl.style.display =\n",
              "        google.colab.kernel.accessAllowed ? 'block' : 'none';\n",
              "\n",
              "      async function convertToInteractive(key) {\n",
              "        const element = document.querySelector('#df-eb1cac11-b399-4ab6-8741-20067f140324');\n",
              "        const dataTable =\n",
              "          await google.colab.kernel.invokeFunction('convertToInteractive',\n",
              "                                                    [key], {});\n",
              "        if (!dataTable) return;\n",
              "\n",
              "        const docLinkHtml = 'Like what you see? Visit the ' +\n",
              "          '<a target=\"_blank\" href=https://colab.research.google.com/notebooks/data_table.ipynb>data table notebook</a>'\n",
              "          + ' to learn more about interactive tables.';\n",
              "        element.innerHTML = '';\n",
              "        dataTable['output_type'] = 'display_data';\n",
              "        await google.colab.output.renderOutput(dataTable, element);\n",
              "        const docLink = document.createElement('div');\n",
              "        docLink.innerHTML = docLinkHtml;\n",
              "        element.appendChild(docLink);\n",
              "      }\n",
              "    </script>\n",
              "  </div>\n",
              "\n",
              "\n",
              "<div id=\"df-2561708d-052e-40c0-8995-4b0690a48d78\">\n",
              "  <button class=\"colab-df-quickchart\" onclick=\"quickchart('df-2561708d-052e-40c0-8995-4b0690a48d78')\"\n",
              "            title=\"Suggest charts.\"\n",
              "            style=\"display:none;\">\n",
              "\n",
              "<svg xmlns=\"http://www.w3.org/2000/svg\" height=\"24px\"viewBox=\"0 0 24 24\"\n",
              "     width=\"24px\">\n",
              "    <g>\n",
              "        <path d=\"M19 3H5c-1.1 0-2 .9-2 2v14c0 1.1.9 2 2 2h14c1.1 0 2-.9 2-2V5c0-1.1-.9-2-2-2zM9 17H7v-7h2v7zm4 0h-2V7h2v10zm4 0h-2v-4h2v4z\"/>\n",
              "    </g>\n",
              "</svg>\n",
              "  </button>\n",
              "\n",
              "<style>\n",
              "  .colab-df-quickchart {\n",
              "    background-color: #E8F0FE;\n",
              "    border: none;\n",
              "    border-radius: 50%;\n",
              "    cursor: pointer;\n",
              "    display: none;\n",
              "    fill: #1967D2;\n",
              "    height: 32px;\n",
              "    padding: 0 0 0 0;\n",
              "    width: 32px;\n",
              "  }\n",
              "\n",
              "  .colab-df-quickchart:hover {\n",
              "    background-color: #E2EBFA;\n",
              "    box-shadow: 0px 1px 2px rgba(60, 64, 67, 0.3), 0px 1px 3px 1px rgba(60, 64, 67, 0.15);\n",
              "    fill: #174EA6;\n",
              "  }\n",
              "\n",
              "  [theme=dark] .colab-df-quickchart {\n",
              "    background-color: #3B4455;\n",
              "    fill: #D2E3FC;\n",
              "  }\n",
              "\n",
              "  [theme=dark] .colab-df-quickchart:hover {\n",
              "    background-color: #434B5C;\n",
              "    box-shadow: 0px 1px 3px 1px rgba(0, 0, 0, 0.15);\n",
              "    filter: drop-shadow(0px 1px 2px rgba(0, 0, 0, 0.3));\n",
              "    fill: #FFFFFF;\n",
              "  }\n",
              "</style>\n",
              "\n",
              "  <script>\n",
              "    async function quickchart(key) {\n",
              "      const charts = await google.colab.kernel.invokeFunction(\n",
              "          'suggestCharts', [key], {});\n",
              "    }\n",
              "    (() => {\n",
              "      let quickchartButtonEl =\n",
              "        document.querySelector('#df-2561708d-052e-40c0-8995-4b0690a48d78 button');\n",
              "      quickchartButtonEl.style.display =\n",
              "        google.colab.kernel.accessAllowed ? 'block' : 'none';\n",
              "    })();\n",
              "  </script>\n",
              "</div>\n",
              "    </div>\n",
              "  </div>\n"
            ]
          },
          "metadata": {},
          "execution_count": 21
        }
      ]
    },
    {
      "cell_type": "code",
      "source": [
        "new_df = df[df['Score']>8]\n",
        "new_df.info"
      ],
      "metadata": {
        "colab": {
          "base_uri": "https://localhost:8080/"
        },
        "id": "VscHb2ogm6s2",
        "outputId": "3efa8382-ddc1-46d1-c61c-3297604147fb"
      },
      "execution_count": null,
      "outputs": [
        {
          "output_type": "execute_result",
          "data": {
            "text/plain": [
              "<bound method DataFrame.info of                Id  Score                                              Title  \\\n",
              "0              80     26  SQLStatement.execute() - multiple queries in o...   \n",
              "1              90    144  Good branching and merging tutorials for Torto...   \n",
              "2             120     21                                  ASP.NET Site Maps   \n",
              "3             180     53                 Function for creating color wheels   \n",
              "4             260     49  Adding scripting functionality to .NET applica...   \n",
              "...           ...    ...                                                ...   \n",
              "1257356  39981800     11  How to achieve test isolation with Symfony for...   \n",
              "1260386  40053550      9  The compiler suggests I add a 'static lifetime...   \n",
              "1261242  40073530     16  Why doesn't ${@:-1} return the last element of...   \n",
              "1262332  40098470     19  If multiple classes have a static variable in ...   \n",
              "1262668  40106430     14   Using lambda in default initializer gcc vs clang   \n",
              "\n",
              "                                                      Body  \\\n",
              "0        <p>I've written a database generation script i...   \n",
              "1        <p>Are there any really good tutorials explain...   \n",
              "2        <p>Has anyone got experience creating <strong>...   \n",
              "3        <p>This is something I've pseudo-solved many t...   \n",
              "4        <p>I have a little game written in C#. It uses...   \n",
              "...                                                    ...   \n",
              "1257356  <p><strong><em>Note:</strong> This is Symfony ...   \n",
              "1260386  <p>Sorry for the vague title, but I'm fairly n...   \n",
              "1261242  <p><em>I thought to post up a Q&amp;A on this ...   \n",
              "1262332  <p>I have the following example code:</p>\\n\\n<...   \n",
              "1262668  <pre><code>#include &lt;cassert&gt;\\n\\nint mai...   \n",
              "\n",
              "                                                      Tags  \n",
              "0                                  flex actionscript-3 air  \n",
              "1             svn tortoisesvn branch branching-and-merging  \n",
              "2                                      sql asp.net sitemap  \n",
              "3           algorithm language-agnostic colors color-space  \n",
              "4                  c# .net scripting compiler-construction  \n",
              "...                                                    ...  \n",
              "1257356            php unit-testing symfony2 symfony-forms  \n",
              "1260386                                      rust lifetime  \n",
              "1261242                                               bash  \n",
              "1262332                          c++ static static-members  \n",
              "1262668  c++ lambda c++14 language-lawyer member-initia...  \n",
              "\n",
              "[42395 rows x 5 columns]>"
            ]
          },
          "metadata": {},
          "execution_count": 22
        }
      ]
    },
    {
      "cell_type": "code",
      "source": [
        "new_df.isna().sum()"
      ],
      "metadata": {
        "colab": {
          "base_uri": "https://localhost:8080/"
        },
        "id": "dPW3djDknqBT",
        "outputId": "6d04ee11-6e67-4166-ea93-71e362b9092e"
      },
      "execution_count": null,
      "outputs": [
        {
          "output_type": "execute_result",
          "data": {
            "text/plain": [
              "Id       0\n",
              "Score    0\n",
              "Title    0\n",
              "Body     0\n",
              "Tags     0\n",
              "dtype: int64"
            ]
          },
          "metadata": {},
          "execution_count": 23
        }
      ]
    },
    {
      "cell_type": "code",
      "source": [
        "new_df.duplicated().sum()"
      ],
      "metadata": {
        "colab": {
          "base_uri": "https://localhost:8080/"
        },
        "id": "rQvBMRcfn2CE",
        "outputId": "19acec60-a888-411b-84db-10a79597739b"
      },
      "execution_count": null,
      "outputs": [
        {
          "output_type": "execute_result",
          "data": {
            "text/plain": [
              "0"
            ]
          },
          "metadata": {},
          "execution_count": 24
        }
      ]
    },
    {
      "cell_type": "code",
      "source": [
        "new_df = new_df.drop(['Id', 'Score'],axis=1)"
      ],
      "metadata": {
        "id": "PBRlpWuen5jv"
      },
      "execution_count": null,
      "outputs": []
    },
    {
      "cell_type": "code",
      "source": [
        "new_df['Tags'] = new_df['Tags'].apply(lambda x: x.split())"
      ],
      "metadata": {
        "id": "vjTV1slun8DQ"
      },
      "execution_count": null,
      "outputs": []
    },
    {
      "cell_type": "code",
      "source": [
        "all_tags = [item for sublist in new_df['Tags'].values for item in sublist]\n",
        "len(all_tags)"
      ],
      "metadata": {
        "colab": {
          "base_uri": "https://localhost:8080/"
        },
        "id": "jG2GdqHCoQ9d",
        "outputId": "e58295d4-89c8-413e-ab7b-0b14dedf6216"
      },
      "execution_count": null,
      "outputs": [
        {
          "output_type": "execute_result",
          "data": {
            "text/plain": [
              "129631"
            ]
          },
          "metadata": {},
          "execution_count": 27
        }
      ]
    },
    {
      "cell_type": "code",
      "source": [
        "all_tags"
      ],
      "metadata": {
        "colab": {
          "base_uri": "https://localhost:8080/"
        },
        "id": "RgdkWe0DoSxm",
        "outputId": "109fb063-b7c3-4790-a813-be0a22a75c43"
      },
      "execution_count": null,
      "outputs": [
        {
          "output_type": "execute_result",
          "data": {
            "text/plain": [
              "['flex',\n",
              " 'actionscript-3',\n",
              " 'air',\n",
              " 'svn',\n",
              " 'tortoisesvn',\n",
              " 'branch',\n",
              " 'branching-and-merging',\n",
              " 'sql',\n",
              " 'asp.net',\n",
              " 'sitemap',\n",
              " 'algorithm',\n",
              " 'language-agnostic',\n",
              " 'colors',\n",
              " 'color-space',\n",
              " 'c#',\n",
              " '.net',\n",
              " 'scripting',\n",
              " 'compiler-construction',\n",
              " 'c++',\n",
              " 'oop',\n",
              " 'class',\n",
              " 'nested-class',\n",
              " '.net',\n",
              " 'web-services',\n",
              " 'sql-server',\n",
              " 'sql-server-2005',\n",
              " 'deployment',\n",
              " 'release-management',\n",
              " 'c#',\n",
              " 'visual-studio',\n",
              " 'versioning',\n",
              " 'windows',\n",
              " 'visual-studio',\n",
              " 'registry',\n",
              " 'installation',\n",
              " 'c#',\n",
              " 'database',\n",
              " 'loops',\n",
              " 'connection',\n",
              " 'c#',\n",
              " 'asp.net',\n",
              " 'c#',\n",
              " 'file-locking',\n",
              " 'unix',\n",
              " 'size',\n",
              " 'svn',\n",
              " 'msbuild',\n",
              " 'cruisecontrol.net',\n",
              " 'web-applications',\n",
              " 'dns',\n",
              " 'subdomain',\n",
              " 'account',\n",
              " '.net',\n",
              " '.net-3.5',\n",
              " 'msbuild',\n",
              " 'nant',\n",
              " 'sql-server',\n",
              " 'windows-server-2008',\n",
              " 'sql-server',\n",
              " 'sql-server-2008',\n",
              " 'sql-server',\n",
              " 'c#',\n",
              " '.net',\n",
              " 'unit-testing',\n",
              " 'testing',\n",
              " 'svn',\n",
              " 'version-control',\n",
              " 'sql',\n",
              " 'database',\n",
              " 'postgresql',\n",
              " 'stored-procedures',\n",
              " 'triggers',\n",
              " 'sql',\n",
              " 'sql-server',\n",
              " 'c#',\n",
              " 'dataset',\n",
              " 'datatable',\n",
              " 'asp-classic',\n",
              " 'vbscript',\n",
              " 'html',\n",
              " 'autocomplete',\n",
              " 'c',\n",
              " 'architecture',\n",
              " 'data-structures',\n",
              " 'asp.net',\n",
              " 'flash',\n",
              " 'video',\n",
              " 'embed',\n",
              " 'powershell',\n",
              " 'cmdlets',\n",
              " 'winforms',\n",
              " 'error-handling',\n",
              " 'user-controls',\n",
              " 'c#',\n",
              " 'colors',\n",
              " 'sql',\n",
              " 'sql-server-2005',\n",
              " 'paging',\n",
              " 'php',\n",
              " 'mysql',\n",
              " 'security',\n",
              " 'cracking',\n",
              " 'hijacked',\n",
              " 'c++',\n",
              " 'visual-studio',\n",
              " 'unit-testing',\n",
              " 'testing',\n",
              " 'fogbugz',\n",
              " 'c++',\n",
              " 'visual-studio',\n",
              " 'algorithm',\n",
              " 'language-agnostic',\n",
              " 'sql-server',\n",
              " 'full-text-search',\n",
              " 'sql-server',\n",
              " 'sql-server-2005',\n",
              " 'math',\n",
              " 'ruby',\n",
              " 'rake',\n",
              " 'command-line-interface',\n",
              " 'java',\n",
              " 'code-coverage',\n",
              " 'static-analysis',\n",
              " 'ado.net',\n",
              " 'asp.net',\n",
              " 'php',\n",
              " 'web-services',\n",
              " 'visual-studio',\n",
              " 'wsdl',\n",
              " 'c#',\n",
              " '.net',\n",
              " 'version-control',\n",
              " 'dvcs',\n",
              " 'c#',\n",
              " 'user-interface',\n",
              " 'directx',\n",
              " 'regex',\n",
              " 'ansi',\n",
              " 'html',\n",
              " 'email',\n",
              " 'forms',\n",
              " 'confirm',\n",
              " 'c#',\n",
              " '.net',\n",
              " 'sharepoint',\n",
              " 'assemblies',\n",
              " 'sql-server',\n",
              " 'sql-server',\n",
              " 'indexing',\n",
              " 'authentication',\n",
              " 'web-applications',\n",
              " 'account',\n",
              " 'svn',\n",
              " 'subclipse',\n",
              " 'sql',\n",
              " 'mysql',\n",
              " 'foreign-keys',\n",
              " '.net',\n",
              " 'redistributable',\n",
              " 'svn',\n",
              " 'continuous-integration',\n",
              " 'linux',\n",
              " 'ssh',\n",
              " 'unit-testing',\n",
              " 'user-interface',\n",
              " 'selenium',\n",
              " 'java',\n",
              " 'windows',\n",
              " 'swt',\n",
              " 'executable',\n",
              " 'software-distribution',\n",
              " 'c++',\n",
              " 'file',\n",
              " 'io',\n",
              " 'c#',\n",
              " '.net',\n",
              " 'windows-services',\n",
              " 'printing',\n",
              " 'linq',\n",
              " '.net-3.5',\n",
              " 'plugins',\n",
              " 'extensibility',\n",
              " 'ant',\n",
              " 'build-process',\n",
              " 'c#',\n",
              " 'data-structures',\n",
              " 'collections',\n",
              " 'architecture',\n",
              " 'c',\n",
              " 'function',\n",
              " 'pointers',\n",
              " 'syntax',\n",
              " 'parameters',\n",
              " 'lisp',\n",
              " 'scheme',\n",
              " '.net',\n",
              " 'sql',\n",
              " 'linq',\n",
              " 'pagination',\n",
              " 'string',\n",
              " 'optimization',\n",
              " 'language-agnostic',\n",
              " 'compiler-construction',\n",
              " 'asp.net-mvc',\n",
              " 'validation',\n",
              " 'binding',\n",
              " 'dynamic-binding',\n",
              " 'static-binding',\n",
              " 'c',\n",
              " 'linux',\n",
              " 'c++',\n",
              " 'emacs',\n",
              " 'php',\n",
              " 'apache',\n",
              " 'upload',\n",
              " 'c++',\n",
              " 'python',\n",
              " 'unit-testing',\n",
              " 'code-generation',\n",
              " 'swig',\n",
              " 'asp.net',\n",
              " 'ajax',\n",
              " 'optimization',\n",
              " 'performance',\n",
              " 'sql-server',\n",
              " 'sql-server-2005',\n",
              " 'msbuild',\n",
              " 'virtualization',\n",
              " 'hyper-v',\n",
              " 'java',\n",
              " 'sockets',\n",
              " 'ip',\n",
              " 'router',\n",
              " 'asp.net',\n",
              " 'error-handling',\n",
              " 'nlog',\n",
              " 'health-monitoring',\n",
              " 'java',\n",
              " 'php',\n",
              " 'jsp',\n",
              " 'tomcat',\n",
              " 'resources',\n",
              " 'dataset',\n",
              " 'mysql',\n",
              " 'database',\n",
              " 'denormalization',\n",
              " 'c#',\n",
              " '.net',\n",
              " 'vb.net',\n",
              " 'sql',\n",
              " 'sql-server',\n",
              " 'stored-procedures',\n",
              " 'upsert',\n",
              " 'php',\n",
              " 'optimization',\n",
              " 'performance',\n",
              " 'unit-testing',\n",
              " 'testing',\n",
              " 'process',\n",
              " 'powershell',\n",
              " 'batch-file',\n",
              " 'opengl',\n",
              " 'textures',\n",
              " 'colors',\n",
              " 'rgb',\n",
              " 'monochrome',\n",
              " 'vim',\n",
              " 'editor',\n",
              " 'vi',\n",
              " 'linq',\n",
              " 'linq-to-sql',\n",
              " 'stored-procedures',\n",
              " '.net',\n",
              " 'attributes',\n",
              " 'versions',\n",
              " 'c++',\n",
              " 'c',\n",
              " 'c-preprocessor',\n",
              " 'javascript',\n",
              " 'web-applications',\n",
              " 'deployment',\n",
              " 'asp.net-mvc',\n",
              " 'asp.net-mvc-routing',\n",
              " 'c#',\n",
              " 'outlook',\n",
              " 'email',\n",
              " 'message',\n",
              " 'msg',\n",
              " 'c#',\n",
              " 'string',\n",
              " 'enums',\n",
              " 'java',\n",
              " 'spring',\n",
              " 'osgi',\n",
              " 'c#',\n",
              " 'hash',\n",
              " '.net',\n",
              " 'build-process',\n",
              " 'nant',\n",
              " 'c#',\n",
              " 'sql-server',\n",
              " 'tsql',\n",
              " 'ado.net',\n",
              " 'sql-server-2000',\n",
              " 'data-structures',\n",
              " 'haskell',\n",
              " 'types',\n",
              " 'functional-programming',\n",
              " 'algebraic-data-types',\n",
              " 'unit-testing',\n",
              " 'c',\n",
              " 'process',\n",
              " 'c#',\n",
              " '.net',\n",
              " 'python',\n",
              " 'zip',\n",
              " 'opengl',\n",
              " 'glew',\n",
              " '.net-3.5',\n",
              " 'intellisense',\n",
              " 'knowledge-management',\n",
              " 'parsing',\n",
              " 'monads',\n",
              " 'mysql',\n",
              " 'powershell',\n",
              " 'configuration-files',\n",
              " 'version-control',\n",
              " 'ankhsvn',\n",
              " 'ruby-on-rails',\n",
              " 'security',\n",
              " 'deployment',\n",
              " '.net',\n",
              " 'open-source',\n",
              " 'mono',\n",
              " 'open-source',\n",
              " 'licensing',\n",
              " 'javascript',\n",
              " 'objective-c',\n",
              " 'xcode',\n",
              " 'osx',\n",
              " 'refactoring',\n",
              " '.net',\n",
              " 'flex',\n",
              " 'flash',\n",
              " 'silverlight',\n",
              " 'c#',\n",
              " 'sql',\n",
              " 'linq',\n",
              " 'django',\n",
              " 'shared-hosting',\n",
              " 'hostmonster',\n",
              " '.net',\n",
              " 'asp.net',\n",
              " 'url',\n",
              " 'uri',\n",
              " 'authority',\n",
              " 'postgresql',\n",
              " 'indexing',\n",
              " 'gin',\n",
              " 'gist-index',\n",
              " 'caching',\n",
              " '.net-2.0',\n",
              " 'memcached',\n",
              " 'enterprise-library',\n",
              " 'c',\n",
              " 'kr-c',\n",
              " 'c89',\n",
              " 'sql',\n",
              " 'sql-server',\n",
              " 'tsql',\n",
              " 'datetime',\n",
              " 'user-defined-functions',\n",
              " 'security',\n",
              " 'session',\n",
              " 'cookies',\n",
              " 'c#',\n",
              " 'coding-style',\n",
              " 'windows-vista',\n",
              " 'database',\n",
              " 'database-design',\n",
              " 'postgresql',\n",
              " 'algorithm',\n",
              " 'language-agnostic',\n",
              " 'ruby',\n",
              " 'serialization',\n",
              " 'lambda',\n",
              " 'proc-object',\n",
              " 'c#',\n",
              " 'sql',\n",
              " 'sql-server',\n",
              " 'sql-server-2005',\n",
              " 'language-agnostic',\n",
              " 'oop',\n",
              " 'ruby',\n",
              " 'shoes',\n",
              " 'irc',\n",
              " 'model-view-controller',\n",
              " 'web-frameworks',\n",
              " 'sql-server',\n",
              " 'tsql',\n",
              " 'pivot',\n",
              " 'visual-studio',\n",
              " 'build-automation',\n",
              " 'visual-studio',\n",
              " 'vim',\n",
              " 'ide',\n",
              " 'editor',\n",
              " 'svn',\n",
              " 'vb6',\n",
              " 'css',\n",
              " 'abstraction',\n",
              " 'java',\n",
              " 'unix',\n",
              " 'windows-services',\n",
              " 'daemon',\n",
              " 'c++',\n",
              " 'c',\n",
              " 'visual-studio',\n",
              " 'memory-leaks',\n",
              " 'c#',\n",
              " 'sqlite',\n",
              " 'asp.net',\n",
              " 'c#',\n",
              " '.net',\n",
              " 'jquery',\n",
              " 'ajax',\n",
              " 'json',\n",
              " 'character-encoding',\n",
              " 'c#',\n",
              " 'timespan',\n",
              " '.net',\n",
              " 'xpath',\n",
              " 'excel',\n",
              " 'excel-vba',\n",
              " 'javascript',\n",
              " 'arrays',\n",
              " 'comparison',\n",
              " 'c++',\n",
              " 'winapi',\n",
              " 'java',\n",
              " 'enumeration',\n",
              " 'iterable',\n",
              " 'c#',\n",
              " 'file',\n",
              " 'recursion',\n",
              " 'c#',\n",
              " 'trace',\n",
              " 'c++',\n",
              " 'qt',\n",
              " 'mfc',\n",
              " 'regex',\n",
              " 'doi',\n",
              " 'c++',\n",
              " 'casting',\n",
              " 'rtti',\n",
              " 'dynamic-cast',\n",
              " 'c++',\n",
              " 'performance',\n",
              " 'file-organization',\n",
              " 'android',\n",
              " 'authentication',\n",
              " 'proxy',\n",
              " 'open-source',\n",
              " 'architecture',\n",
              " 'rest',\n",
              " 'soap',\n",
              " '.net',\n",
              " 'wpf',\n",
              " 'version-control',\n",
              " 'tracking',\n",
              " 'c++',\n",
              " 'sockets',\n",
              " 'udp',\n",
              " 'c#',\n",
              " '2d',\n",
              " 'css',\n",
              " 'asp.net-mvc',\n",
              " 'mysql',\n",
              " 'replication',\n",
              " 'mysql-error-1062',\n",
              " 'binlog',\n",
              " 'database',\n",
              " 'unit-testing',\n",
              " 'linq',\n",
              " 'oracle',\n",
              " 'ruby-on-rails',\n",
              " 'ruby',\n",
              " 'python',\n",
              " 'multithreading',\n",
              " 'sql',\n",
              " 'indexing',\n",
              " 'wcf',\n",
              " 'web-services',\n",
              " 'java',\n",
              " 'logging',\n",
              " 'log4j',\n",
              " 'java.util.logging',\n",
              " 'xslt',\n",
              " 'regex',\n",
              " 'language-agnostic',\n",
              " 'web-services',\n",
              " 'testing',\n",
              " 'sql',\n",
              " 'puzzle',\n",
              " 'c#',\n",
              " '.net',\n",
              " 'email',\n",
              " 'smtp',\n",
              " 'gmail',\n",
              " 'java',\n",
              " 'nan',\n",
              " 'assert',\n",
              " 'javascript',\n",
              " 'model-view-controller',\n",
              " 'architecture',\n",
              " 'client',\n",
              " 'ria',\n",
              " 'asp.net-mvc',\n",
              " 'unit-testing',\n",
              " 'mocking',\n",
              " 'moq',\n",
              " 'rhino-mocks',\n",
              " 'java',\n",
              " 'process',\n",
              " 'javascript',\n",
              " 'html',\n",
              " 'css',\n",
              " 'open-source',\n",
              " 'wolfram-mathematica',\n",
              " 'symbolic-math',\n",
              " 'computer-algebra-systems',\n",
              " 'xcode',\n",
              " 'osx',\n",
              " 'templates',\n",
              " 'xcode4',\n",
              " 'xcode4.5',\n",
              " 'java',\n",
              " 'networking',\n",
              " 'ethernet',\n",
              " 'python',\n",
              " 'multithreading',\n",
              " 'php',\n",
              " 'html',\n",
              " 'screen-scraping',\n",
              " 'asp.net',\n",
              " 'css',\n",
              " 'visual-studio-2008',\n",
              " 'user-controls',\n",
              " 'ruby',\n",
              " 'hash',\n",
              " 'sha1',\n",
              " 'multithreading',\n",
              " 'concurrency',\n",
              " 'terminology',\n",
              " 'race-condition',\n",
              " 'python',\n",
              " 'tdd',\n",
              " 'pair-programming',\n",
              " 'javascript',\n",
              " 'jquery',\n",
              " 'perl',\n",
              " 'file',\n",
              " 'locking',\n",
              " 'verilog',\n",
              " 'jquery',\n",
              " 'ajax',\n",
              " 'http',\n",
              " 'forms',\n",
              " 'iframe',\n",
              " 'python',\n",
              " 'static-analysis',\n",
              " 'pylint',\n",
              " 'pyflakes',\n",
              " 'api',\n",
              " 'networking',\n",
              " 'messaging',\n",
              " 'distributed',\n",
              " 'cluster-computing',\n",
              " 'algorithm',\n",
              " 'graphics',\n",
              " 'audio',\n",
              " 'photoshop',\n",
              " 'signal-processing',\n",
              " 'svn',\n",
              " 'c',\n",
              " 'cross-platform',\n",
              " '32-bit',\n",
              " 'sorting',\n",
              " 'comparison',\n",
              " 'f#',\n",
              " 'ocaml',\n",
              " 'c#',\n",
              " 'arrays',\n",
              " 'sql',\n",
              " 'count',\n",
              " 'version-control',\n",
              " 'ms-word',\n",
              " 'windows',\n",
              " 'installation',\n",
              " 'x86',\n",
              " 'sse',\n",
              " 'assembly',\n",
              " 'java',\n",
              " 'unit-testing',\n",
              " 'tdd',\n",
              " 'graphics',\n",
              " 'asp.net',\n",
              " 'file',\n",
              " 'download',\n",
              " 'wpf',\n",
              " 'user-interface',\n",
              " 'asp.net',\n",
              " 'maps',\n",
              " 'bash',\n",
              " '.net',\n",
              " 'winapi',\n",
              " 'disk',\n",
              " 'research',\n",
              " 'c#',\n",
              " 'asp.net',\n",
              " 'visual-studio',\n",
              " 'oop',\n",
              " 'class-design',\n",
              " 'database',\n",
              " 'data-structures',\n",
              " 'indexing',\n",
              " 'schema',\n",
              " 'c#',\n",
              " '.net',\n",
              " 'io',\n",
              " 'javascript',\n",
              " 'python',\n",
              " 'c#',\n",
              " 'overloading',\n",
              " 'java',\n",
              " 'methods',\n",
              " 'parameter-passing',\n",
              " 'pass-by-reference',\n",
              " 'pass-by-value',\n",
              " 'c#',\n",
              " 'asp.net',\n",
              " 'user-controls',\n",
              " 'c#',\n",
              " 'automatic-properties',\n",
              " 'codeigniter',\n",
              " 'zend-framework',\n",
              " 'smarty',\n",
              " 'windows',\n",
              " 'emacs',\n",
              " 'c++',\n",
              " 'c',\n",
              " 'variadic-functions',\n",
              " 'licensing',\n",
              " 'c++',\n",
              " 'namespaces',\n",
              " 'fuzzy-search',\n",
              " 'c#',\n",
              " '.net',\n",
              " 'unit-testing',\n",
              " 'windows-services',\n",
              " '.net',\n",
              " 'winforms',\n",
              " 'user-interface',\n",
              " 'windows-xp',\n",
              " 'sql',\n",
              " '.net',\n",
              " 'wcf',\n",
              " 'c++',\n",
              " 'python',\n",
              " 'date',\n",
              " 'osx',\n",
              " 'configuration',\n",
              " 'mercurial',\n",
              " 'perforce',\n",
              " 'p4merge',\n",
              " 'c#',\n",
              " 'java',\n",
              " 'regex',\n",
              " 'regex-negation',\n",
              " 'operating-system',\n",
              " 'kernel',\n",
              " 'osdev',\n",
              " 'python',\n",
              " 'django',\n",
              " 'url',\n",
              " 'django-urls',\n",
              " '.net',\n",
              " 'session',\n",
              " 'nhibernate',\n",
              " 'flush',\n",
              " 'c#',\n",
              " '.net',\n",
              " 'python',\n",
              " 'mime',\n",
              " 'sql',\n",
              " 'postgresql',\n",
              " 'group-by',\n",
              " 'string-concatenation',\n",
              " 'concat',\n",
              " 'mp3',\n",
              " 'ffmpeg',\n",
              " 'sql-server',\n",
              " 'database',\n",
              " 'c#',\n",
              " 'performance',\n",
              " 'loops',\n",
              " 'visual-studio',\n",
              " 'clickonce',\n",
              " 'versioning',\n",
              " '.net',\n",
              " 'cil',\n",
              " 'c#',\n",
              " 'windows',\n",
              " 'c#',\n",
              " '.net',\n",
              " 'string',\n",
              " '.net-3.5',\n",
              " 'nullable',\n",
              " 'asp.net',\n",
              " 'url',\n",
              " 'rest',\n",
              " 'friendly-url',\n",
              " 'version-control',\n",
              " 'perl',\n",
              " 'model-view-controller',\n",
              " 'visual-studio',\n",
              " 'projects-and-solutions',\n",
              " 'c#',\n",
              " 'winforms',\n",
              " 'svn',\n",
              " 'tortoisesvn',\n",
              " 'iphone',\n",
              " 'xib',\n",
              " 'key-value-coding',\n",
              " 'sql',\n",
              " 'database',\n",
              " 'oracle',\n",
              " 'ora-00942',\n",
              " 'database',\n",
              " 'unit-testing',\n",
              " 'ms-access',\n",
              " 'vba',\n",
              " 'c++',\n",
              " 'templates',\n",
              " 'compiler-errors',\n",
              " 'asp.net',\n",
              " 'scalability',\n",
              " 'viewstate',\n",
              " 'ruby-on-rails',\n",
              " 'ruby',\n",
              " 'social-networking',\n",
              " 'asp.net',\n",
              " '.net',\n",
              " 'deployment',\n",
              " 'msbuild',\n",
              " 'php',\n",
              " 'oop',\n",
              " 'c#',\n",
              " '.net',\n",
              " 'winforms',\n",
              " 'focus',\n",
              " 'bash',\n",
              " 'iterator',\n",
              " 'svn',\n",
              " 'apache',\n",
              " 'mod-rewrite',\n",
              " 'objective-c',\n",
              " 'cocoa',\n",
              " 'c++',\n",
              " 'mfc',\n",
              " 'bounds-checker',\n",
              " 'purify',\n",
              " 'java',\n",
              " 'build-process',\n",
              " 'build-automation',\n",
              " 'ant',\n",
              " 'css',\n",
              " 'html',\n",
              " 'positioning',\n",
              " 'unit-testing',\n",
              " 'project-management',\n",
              " 'tdd',\n",
              " 'python',\n",
              " 'datetime',\n",
              " 'time',\n",
              " 'usability',\n",
              " 'ui-guidelines',\n",
              " 'demoscene',\n",
              " 'visual-studio',\n",
              " 'java',\n",
              " 'windows',\n",
              " 'java',\n",
              " 'applet',\n",
              " 'sql',\n",
              " 'database',\n",
              " 'oracle',\n",
              " 'sequence',\n",
              " 'reset',\n",
              " 'python',\n",
              " 'path',\n",
              " 'relative-path',\n",
              " 'absolute-path',\n",
              " '.net',\n",
              " 'unit-testing',\n",
              " 'project-management',\n",
              " 'specifications',\n",
              " 'specs',\n",
              " '.net',\n",
              " 'c',\n",
              " 'operators',\n",
              " 'comma-operator',\n",
              " 'api',\n",
              " 'google-reader',\n",
              " 'windows',\n",
              " 'git',\n",
              " 'c#',\n",
              " 'algorithm',\n",
              " 'string',\n",
              " 'fuzzy-search',\n",
              " 'scala',\n",
              " 'list',\n",
              " 'security',\n",
              " 'encryption',\n",
              " 'settings',\n",
              " 'php',\n",
              " 'cakephp',\n",
              " 'permissions',\n",
              " 'acl',\n",
              " 'security-roles',\n",
              " '.net',\n",
              " 'web-services',\n",
              " 'iis',\n",
              " 'wcf-data-services',\n",
              " 'postgresql',\n",
              " 'image',\n",
              " 'msbuild',\n",
              " 'mono',\n",
              " 'python',\n",
              " 'sorting',\n",
              " 'dictionary',\n",
              " 'list',\n",
              " 'algorithm',\n",
              " 'language-agnostic',\n",
              " 'puzzle',\n",
              " 'c++',\n",
              " 'c',\n",
              " 'variables',\n",
              " 'php',\n",
              " 'mysql',\n",
              " 'performance',\n",
              " 'profiling',\n",
              " 'svn',\n",
              " 'merge',\n",
              " 'visualization',\n",
              " 'c',\n",
              " 'multithreading',\n",
              " 'python',\n",
              " 'floating-point',\n",
              " 'oop',\n",
              " 'definition',\n",
              " 'solid-principles',\n",
              " 'design-principles',\n",
              " 'lsp',\n",
              " 'c#',\n",
              " '.net-3.5',\n",
              " 'collections',\n",
              " '.net',\n",
              " 'fluent-interface',\n",
              " 'c#',\n",
              " '.net',\n",
              " 'windows',\n",
              " 'svn',\n",
              " 'version-control',\n",
              " 'sourcegear-vault',\n",
              " 'version-control-migration',\n",
              " 'language-agnostic',\n",
              " 'loops',\n",
              " 'goto',\n",
              " 'continue',\n",
              " 'c#',\n",
              " 'c++',\n",
              " 'visual-studio',\n",
              " 'debugging',\n",
              " '.net',\n",
              " 'sql-server',\n",
              " 'tsql',\n",
              " 'sqlclr',\n",
              " '.net',\n",
              " 'vb.net',\n",
              " 'exception-handling',\n",
              " 'windows-services',\n",
              " '.net',\n",
              " 'wpf',\n",
              " 'testing',\n",
              " 'c#',\n",
              " '.net',\n",
              " 'exception',\n",
              " 'c#',\n",
              " 'mime',\n",
              " 'mime-types',\n",
              " 'c++',\n",
              " 'c',\n",
              " 'pdf',\n",
              " 'open-source',\n",
              " 'google-analytics',\n",
              " 'c#',\n",
              " '.net',\n",
              " 'png',\n",
              " 'svg',\n",
              " 'sql',\n",
              " 'sql-server',\n",
              " 'tsql',\n",
              " 'asp.net',\n",
              " 'unicode',\n",
              " 'localization',\n",
              " 'globalization',\n",
              " 'captcha',\n",
              " 'c#',\n",
              " 'multithreading',\n",
              " 'design-patterns',\n",
              " 'locking',\n",
              " 'c++',\n",
              " 'string',\n",
              " 'gcc',\n",
              " 'sql',\n",
              " 'database',\n",
              " 'stored-procedures',\n",
              " 'c++',\n",
              " 'inheritance',\n",
              " 'oop',\n",
              " 'member-function-pointers',\n",
              " 'javascript',\n",
              " 'internet-explorer',\n",
              " 'java',\n",
              " 'regex',\n",
              " 'escaping',\n",
              " 'c++',\n",
              " 'oop',\n",
              " 'information-hiding',\n",
              " 'pimpl-idiom',\n",
              " 'php',\n",
              " 'javascript',\n",
              " 'download',\n",
              " 'python',\n",
              " 'webserver',\n",
              " 'jquery',\n",
              " 'internet-explorer-6',\n",
              " 'png',\n",
              " 'c#',\n",
              " 'performance',\n",
              " 'memory',\n",
              " 'profiler',\n",
              " 'c++',\n",
              " 'inline-functions',\n",
              " 'osx',\n",
              " 'emacs',\n",
              " 'lisp',\n",
              " 'aquamacs',\n",
              " 'windows',\n",
              " 'command-line',\n",
              " 'console',\n",
              " 'terminal',\n",
              " 'command-line-interface',\n",
              " 'c#',\n",
              " '.net',\n",
              " 'console',\n",
              " 'stdout',\n",
              " 'java',\n",
              " 'unit-testing',\n",
              " 'mocking',\n",
              " 'static-block',\n",
              " 'css',\n",
              " 'layout',\n",
              " 'svn',\n",
              " 'eclipse',\n",
              " 'subclipse',\n",
              " 'subversive',\n",
              " 'unit-testing',\n",
              " 'language-agnostic',\n",
              " 'tdd',\n",
              " 'integration-testing',\n",
              " 'testing-strategies',\n",
              " 'c#',\n",
              " 'properties',\n",
              " 'database',\n",
              " 'oop',\n",
              " 'rdbms',\n",
              " 'relational',\n",
              " 'oodbms',\n",
              " 'linq',\n",
              " 'sum',\n",
              " 'entity-framework',\n",
              " 'ado.net',\n",
              " 'regex',\n",
              " 'svn',\n",
              " 'tortoisesvn',\n",
              " 'java',\n",
              " 'xml',\n",
              " 'database',\n",
              " 'database-design',\n",
              " ...]"
            ]
          },
          "metadata": {},
          "execution_count": 28
        }
      ]
    },
    {
      "cell_type": "code",
      "source": [
        "my_set = set(all_tags)\n",
        "unique_tags = list(my_set)\n",
        "len(unique_tags)"
      ],
      "metadata": {
        "colab": {
          "base_uri": "https://localhost:8080/"
        },
        "id": "7oF_4exJomTJ",
        "outputId": "7c11911a-b763-490a-ce77-83a48beadd10"
      },
      "execution_count": null,
      "outputs": [
        {
          "output_type": "execute_result",
          "data": {
            "text/plain": [
              "11282"
            ]
          },
          "metadata": {},
          "execution_count": 29
        }
      ]
    },
    {
      "cell_type": "code",
      "source": [
        "import nltk"
      ],
      "metadata": {
        "id": "6299LV_FovMs"
      },
      "execution_count": null,
      "outputs": []
    },
    {
      "cell_type": "code",
      "source": [
        "flat_list = [item for sublist in new_df['Tags'].values for item in sublist]\n",
        "\n",
        "keywords = nltk.FreqDist(flat_list)\n",
        "\n",
        "keywords = nltk.FreqDist(keywords)\n",
        "\n",
        "frequencies_words = keywords.most_common(100)\n",
        "tags_features = [word[0] for word in frequencies_words]\n",
        "tags_features"
      ],
      "metadata": {
        "colab": {
          "base_uri": "https://localhost:8080/"
        },
        "id": "l6sWFnzLoqWl",
        "outputId": "0d779b99-c3a4-4178-ee9c-0b9fe3c3fa28"
      },
      "execution_count": null,
      "outputs": [
        {
          "output_type": "execute_result",
          "data": {
            "text/plain": [
              "['java',\n",
              " 'c#',\n",
              " 'javascript',\n",
              " 'android',\n",
              " 'python',\n",
              " 'c++',\n",
              " '.net',\n",
              " 'php',\n",
              " 'jquery',\n",
              " 'ios',\n",
              " 'html',\n",
              " 'css',\n",
              " 'iphone',\n",
              " 'objective-c',\n",
              " 'c',\n",
              " 'ruby-on-rails',\n",
              " 'sql',\n",
              " 'ruby',\n",
              " 'mysql',\n",
              " 'asp.net',\n",
              " 'git',\n",
              " 'r',\n",
              " 'asp.net-mvc',\n",
              " 'linux',\n",
              " 'angularjs',\n",
              " 'string',\n",
              " 'node.js',\n",
              " 'sql-server',\n",
              " 'performance',\n",
              " 'django',\n",
              " 'xcode',\n",
              " 'eclipse',\n",
              " 'algorithm',\n",
              " 'arrays',\n",
              " 'wpf',\n",
              " 'windows',\n",
              " 'haskell',\n",
              " 'c++11',\n",
              " 'scala',\n",
              " 'visual-studio',\n",
              " 'json',\n",
              " 'multithreading',\n",
              " 'bash',\n",
              " 'regex',\n",
              " 'swift',\n",
              " 'osx',\n",
              " 'html5',\n",
              " 'database',\n",
              " 'unit-testing',\n",
              " 'xml',\n",
              " 'spring',\n",
              " 'cocoa-touch',\n",
              " 'ajax',\n",
              " 'ruby-on-rails-3',\n",
              " 'visual-studio-2010',\n",
              " 'debugging',\n",
              " 'vim',\n",
              " 'linq',\n",
              " 'entity-framework',\n",
              " 'shell',\n",
              " 'twitter-bootstrap',\n",
              " 'postgresql',\n",
              " 'mongodb',\n",
              " 'winforms',\n",
              " 'list',\n",
              " 'cocoa',\n",
              " 'generics',\n",
              " 'google-chrome',\n",
              " 'css3',\n",
              " 'maven',\n",
              " 'oop',\n",
              " 'asp.net-mvc-3',\n",
              " 'perl',\n",
              " 'http',\n",
              " 'gcc',\n",
              " 'delphi',\n",
              " 'templates',\n",
              " 'svn',\n",
              " 'tsql',\n",
              " 'image',\n",
              " 'github',\n",
              " 'rest',\n",
              " 'security',\n",
              " 'exception',\n",
              " 'facebook',\n",
              " 'math',\n",
              " 'datetime',\n",
              " 'oracle',\n",
              " 'hibernate',\n",
              " 'numpy',\n",
              " 'class',\n",
              " 'file',\n",
              " 'function',\n",
              " 'android-layout',\n",
              " 'version-control',\n",
              " 'unix',\n",
              " 'types',\n",
              " 'emacs',\n",
              " 'date',\n",
              " 'ipad']"
            ]
          },
          "metadata": {},
          "execution_count": 64
        }
      ]
    },
    {
      "cell_type": "code",
      "source": [
        "import pickle\n",
        "with open('tags_feature.pkl','wb') as f:\n",
        "  pickle.dump(tags_features,f)"
      ],
      "metadata": {
        "id": "HTPCEj1a7mPE"
      },
      "execution_count": null,
      "outputs": []
    },
    {
      "cell_type": "code",
      "source": [
        "def most_common(tags):\n",
        "    tags_filtered = []\n",
        "    for i in range(0, len(tags)):\n",
        "        if tags[i] in tags_features:\n",
        "            tags_filtered.append(tags[i])\n",
        "    return tags_filtered"
      ],
      "metadata": {
        "id": "WkdBbyrDoyVN"
      },
      "execution_count": null,
      "outputs": []
    },
    {
      "cell_type": "code",
      "source": [
        "new_df['Tags'] = new_df['Tags'].apply(lambda x: most_common(x))\n",
        "new_df['Tags'] = new_df['Tags'].apply(lambda x: x if len(x)>0 else None)\n",
        "new_df.shape"
      ],
      "metadata": {
        "colab": {
          "base_uri": "https://localhost:8080/"
        },
        "id": "Z-GMfYxuo26V",
        "outputId": "4c9968c5-4436-4a86-c583-2d85d038a4af"
      },
      "execution_count": null,
      "outputs": [
        {
          "output_type": "execute_result",
          "data": {
            "text/plain": [
              "(42395, 3)"
            ]
          },
          "metadata": {},
          "execution_count": 33
        }
      ]
    },
    {
      "cell_type": "code",
      "source": [
        "new_df.dropna(subset=['Tags'], inplace=True)\n",
        "print(new_df.shape)\n",
        "new_df.head()"
      ],
      "metadata": {
        "colab": {
          "base_uri": "https://localhost:8080/",
          "height": 223
        },
        "id": "HaKH4A9Oo-Ar",
        "outputId": "57ba309f-3296-4c16-b77c-00fcf75bd1a5"
      },
      "execution_count": null,
      "outputs": [
        {
          "output_type": "stream",
          "name": "stdout",
          "text": [
            "(37075, 3)\n"
          ]
        },
        {
          "output_type": "execute_result",
          "data": {
            "text/plain": [
              "                                               Title  \\\n",
              "1  Good branching and merging tutorials for Torto...   \n",
              "2                                  ASP.NET Site Maps   \n",
              "3                 Function for creating color wheels   \n",
              "4  Adding scripting functionality to .NET applica...   \n",
              "5          Should I use nested classes in this case?   \n",
              "\n",
              "                                                Body               Tags  \n",
              "1  <p>Are there any really good tutorials explain...              [svn]  \n",
              "2  <p>Has anyone got experience creating <strong>...     [sql, asp.net]  \n",
              "3  <p>This is something I've pseudo-solved many t...        [algorithm]  \n",
              "4  <p>I have a little game written in C#. It uses...         [c#, .net]  \n",
              "5  <p>I am working on a collection of classes use...  [c++, oop, class]  "
            ],
            "text/html": [
              "\n",
              "  <div id=\"df-f45699f2-67e8-4598-9fe7-c646b64d4aa5\" class=\"colab-df-container\">\n",
              "    <div>\n",
              "<style scoped>\n",
              "    .dataframe tbody tr th:only-of-type {\n",
              "        vertical-align: middle;\n",
              "    }\n",
              "\n",
              "    .dataframe tbody tr th {\n",
              "        vertical-align: top;\n",
              "    }\n",
              "\n",
              "    .dataframe thead th {\n",
              "        text-align: right;\n",
              "    }\n",
              "</style>\n",
              "<table border=\"1\" class=\"dataframe\">\n",
              "  <thead>\n",
              "    <tr style=\"text-align: right;\">\n",
              "      <th></th>\n",
              "      <th>Title</th>\n",
              "      <th>Body</th>\n",
              "      <th>Tags</th>\n",
              "    </tr>\n",
              "  </thead>\n",
              "  <tbody>\n",
              "    <tr>\n",
              "      <th>1</th>\n",
              "      <td>Good branching and merging tutorials for Torto...</td>\n",
              "      <td>&lt;p&gt;Are there any really good tutorials explain...</td>\n",
              "      <td>[svn]</td>\n",
              "    </tr>\n",
              "    <tr>\n",
              "      <th>2</th>\n",
              "      <td>ASP.NET Site Maps</td>\n",
              "      <td>&lt;p&gt;Has anyone got experience creating &lt;strong&gt;...</td>\n",
              "      <td>[sql, asp.net]</td>\n",
              "    </tr>\n",
              "    <tr>\n",
              "      <th>3</th>\n",
              "      <td>Function for creating color wheels</td>\n",
              "      <td>&lt;p&gt;This is something I've pseudo-solved many t...</td>\n",
              "      <td>[algorithm]</td>\n",
              "    </tr>\n",
              "    <tr>\n",
              "      <th>4</th>\n",
              "      <td>Adding scripting functionality to .NET applica...</td>\n",
              "      <td>&lt;p&gt;I have a little game written in C#. It uses...</td>\n",
              "      <td>[c#, .net]</td>\n",
              "    </tr>\n",
              "    <tr>\n",
              "      <th>5</th>\n",
              "      <td>Should I use nested classes in this case?</td>\n",
              "      <td>&lt;p&gt;I am working on a collection of classes use...</td>\n",
              "      <td>[c++, oop, class]</td>\n",
              "    </tr>\n",
              "  </tbody>\n",
              "</table>\n",
              "</div>\n",
              "    <div class=\"colab-df-buttons\">\n",
              "\n",
              "  <div class=\"colab-df-container\">\n",
              "    <button class=\"colab-df-convert\" onclick=\"convertToInteractive('df-f45699f2-67e8-4598-9fe7-c646b64d4aa5')\"\n",
              "            title=\"Convert this dataframe to an interactive table.\"\n",
              "            style=\"display:none;\">\n",
              "\n",
              "  <svg xmlns=\"http://www.w3.org/2000/svg\" height=\"24px\" viewBox=\"0 -960 960 960\">\n",
              "    <path d=\"M120-120v-720h720v720H120Zm60-500h600v-160H180v160Zm220 220h160v-160H400v160Zm0 220h160v-160H400v160ZM180-400h160v-160H180v160Zm440 0h160v-160H620v160ZM180-180h160v-160H180v160Zm440 0h160v-160H620v160Z\"/>\n",
              "  </svg>\n",
              "    </button>\n",
              "\n",
              "  <style>\n",
              "    .colab-df-container {\n",
              "      display:flex;\n",
              "      gap: 12px;\n",
              "    }\n",
              "\n",
              "    .colab-df-convert {\n",
              "      background-color: #E8F0FE;\n",
              "      border: none;\n",
              "      border-radius: 50%;\n",
              "      cursor: pointer;\n",
              "      display: none;\n",
              "      fill: #1967D2;\n",
              "      height: 32px;\n",
              "      padding: 0 0 0 0;\n",
              "      width: 32px;\n",
              "    }\n",
              "\n",
              "    .colab-df-convert:hover {\n",
              "      background-color: #E2EBFA;\n",
              "      box-shadow: 0px 1px 2px rgba(60, 64, 67, 0.3), 0px 1px 3px 1px rgba(60, 64, 67, 0.15);\n",
              "      fill: #174EA6;\n",
              "    }\n",
              "\n",
              "    .colab-df-buttons div {\n",
              "      margin-bottom: 4px;\n",
              "    }\n",
              "\n",
              "    [theme=dark] .colab-df-convert {\n",
              "      background-color: #3B4455;\n",
              "      fill: #D2E3FC;\n",
              "    }\n",
              "\n",
              "    [theme=dark] .colab-df-convert:hover {\n",
              "      background-color: #434B5C;\n",
              "      box-shadow: 0px 1px 3px 1px rgba(0, 0, 0, 0.15);\n",
              "      filter: drop-shadow(0px 1px 2px rgba(0, 0, 0, 0.3));\n",
              "      fill: #FFFFFF;\n",
              "    }\n",
              "  </style>\n",
              "\n",
              "    <script>\n",
              "      const buttonEl =\n",
              "        document.querySelector('#df-f45699f2-67e8-4598-9fe7-c646b64d4aa5 button.colab-df-convert');\n",
              "      buttonEl.style.display =\n",
              "        google.colab.kernel.accessAllowed ? 'block' : 'none';\n",
              "\n",
              "      async function convertToInteractive(key) {\n",
              "        const element = document.querySelector('#df-f45699f2-67e8-4598-9fe7-c646b64d4aa5');\n",
              "        const dataTable =\n",
              "          await google.colab.kernel.invokeFunction('convertToInteractive',\n",
              "                                                    [key], {});\n",
              "        if (!dataTable) return;\n",
              "\n",
              "        const docLinkHtml = 'Like what you see? Visit the ' +\n",
              "          '<a target=\"_blank\" href=https://colab.research.google.com/notebooks/data_table.ipynb>data table notebook</a>'\n",
              "          + ' to learn more about interactive tables.';\n",
              "        element.innerHTML = '';\n",
              "        dataTable['output_type'] = 'display_data';\n",
              "        await google.colab.output.renderOutput(dataTable, element);\n",
              "        const docLink = document.createElement('div');\n",
              "        docLink.innerHTML = docLinkHtml;\n",
              "        element.appendChild(docLink);\n",
              "      }\n",
              "    </script>\n",
              "  </div>\n",
              "\n",
              "\n",
              "<div id=\"df-ae0387c4-a65a-40d4-a407-c81808e170fc\">\n",
              "  <button class=\"colab-df-quickchart\" onclick=\"quickchart('df-ae0387c4-a65a-40d4-a407-c81808e170fc')\"\n",
              "            title=\"Suggest charts.\"\n",
              "            style=\"display:none;\">\n",
              "\n",
              "<svg xmlns=\"http://www.w3.org/2000/svg\" height=\"24px\"viewBox=\"0 0 24 24\"\n",
              "     width=\"24px\">\n",
              "    <g>\n",
              "        <path d=\"M19 3H5c-1.1 0-2 .9-2 2v14c0 1.1.9 2 2 2h14c1.1 0 2-.9 2-2V5c0-1.1-.9-2-2-2zM9 17H7v-7h2v7zm4 0h-2V7h2v10zm4 0h-2v-4h2v4z\"/>\n",
              "    </g>\n",
              "</svg>\n",
              "  </button>\n",
              "\n",
              "<style>\n",
              "  .colab-df-quickchart {\n",
              "    background-color: #E8F0FE;\n",
              "    border: none;\n",
              "    border-radius: 50%;\n",
              "    cursor: pointer;\n",
              "    display: none;\n",
              "    fill: #1967D2;\n",
              "    height: 32px;\n",
              "    padding: 0 0 0 0;\n",
              "    width: 32px;\n",
              "  }\n",
              "\n",
              "  .colab-df-quickchart:hover {\n",
              "    background-color: #E2EBFA;\n",
              "    box-shadow: 0px 1px 2px rgba(60, 64, 67, 0.3), 0px 1px 3px 1px rgba(60, 64, 67, 0.15);\n",
              "    fill: #174EA6;\n",
              "  }\n",
              "\n",
              "  [theme=dark] .colab-df-quickchart {\n",
              "    background-color: #3B4455;\n",
              "    fill: #D2E3FC;\n",
              "  }\n",
              "\n",
              "  [theme=dark] .colab-df-quickchart:hover {\n",
              "    background-color: #434B5C;\n",
              "    box-shadow: 0px 1px 3px 1px rgba(0, 0, 0, 0.15);\n",
              "    filter: drop-shadow(0px 1px 2px rgba(0, 0, 0, 0.3));\n",
              "    fill: #FFFFFF;\n",
              "  }\n",
              "</style>\n",
              "\n",
              "  <script>\n",
              "    async function quickchart(key) {\n",
              "      const charts = await google.colab.kernel.invokeFunction(\n",
              "          'suggestCharts', [key], {});\n",
              "    }\n",
              "    (() => {\n",
              "      let quickchartButtonEl =\n",
              "        document.querySelector('#df-ae0387c4-a65a-40d4-a407-c81808e170fc button');\n",
              "      quickchartButtonEl.style.display =\n",
              "        google.colab.kernel.accessAllowed ? 'block' : 'none';\n",
              "    })();\n",
              "  </script>\n",
              "</div>\n",
              "    </div>\n",
              "  </div>\n"
            ]
          },
          "metadata": {},
          "execution_count": 35
        }
      ]
    },
    {
      "cell_type": "code",
      "source": [
        "from bs4 import BeautifulSoup"
      ],
      "metadata": {
        "id": "foCgkDTYpBVH"
      },
      "execution_count": null,
      "outputs": []
    },
    {
      "cell_type": "code",
      "source": [
        "new_df['Body'] = new_df['Body'].apply(lambda x: BeautifulSoup(x).get_text())\n",
        "new_df.head()"
      ],
      "metadata": {
        "colab": {
          "base_uri": "https://localhost:8080/",
          "height": 206
        },
        "id": "bzjD3Cqzpirz",
        "outputId": "e4bfa7b8-da41-4f93-f1c6-1d8c696bd25d"
      },
      "execution_count": null,
      "outputs": [
        {
          "output_type": "execute_result",
          "data": {
            "text/plain": [
              "                                               Title  \\\n",
              "1  Good branching and merging tutorials for Torto...   \n",
              "2                                  ASP.NET Site Maps   \n",
              "3                 Function for creating color wheels   \n",
              "4  Adding scripting functionality to .NET applica...   \n",
              "5          Should I use nested classes in this case?   \n",
              "\n",
              "                                                Body               Tags  \n",
              "1  Are there any really good tutorials explaining...              [svn]  \n",
              "2  Has anyone got experience creating SQL-based A...     [sql, asp.net]  \n",
              "3  This is something I've pseudo-solved many time...        [algorithm]  \n",
              "4  I have a little game written in C#. It uses a ...         [c#, .net]  \n",
              "5  I am working on a collection of classes used f...  [c++, oop, class]  "
            ],
            "text/html": [
              "\n",
              "  <div id=\"df-3861afbf-4184-491a-82f3-35939d1ae87f\" class=\"colab-df-container\">\n",
              "    <div>\n",
              "<style scoped>\n",
              "    .dataframe tbody tr th:only-of-type {\n",
              "        vertical-align: middle;\n",
              "    }\n",
              "\n",
              "    .dataframe tbody tr th {\n",
              "        vertical-align: top;\n",
              "    }\n",
              "\n",
              "    .dataframe thead th {\n",
              "        text-align: right;\n",
              "    }\n",
              "</style>\n",
              "<table border=\"1\" class=\"dataframe\">\n",
              "  <thead>\n",
              "    <tr style=\"text-align: right;\">\n",
              "      <th></th>\n",
              "      <th>Title</th>\n",
              "      <th>Body</th>\n",
              "      <th>Tags</th>\n",
              "    </tr>\n",
              "  </thead>\n",
              "  <tbody>\n",
              "    <tr>\n",
              "      <th>1</th>\n",
              "      <td>Good branching and merging tutorials for Torto...</td>\n",
              "      <td>Are there any really good tutorials explaining...</td>\n",
              "      <td>[svn]</td>\n",
              "    </tr>\n",
              "    <tr>\n",
              "      <th>2</th>\n",
              "      <td>ASP.NET Site Maps</td>\n",
              "      <td>Has anyone got experience creating SQL-based A...</td>\n",
              "      <td>[sql, asp.net]</td>\n",
              "    </tr>\n",
              "    <tr>\n",
              "      <th>3</th>\n",
              "      <td>Function for creating color wheels</td>\n",
              "      <td>This is something I've pseudo-solved many time...</td>\n",
              "      <td>[algorithm]</td>\n",
              "    </tr>\n",
              "    <tr>\n",
              "      <th>4</th>\n",
              "      <td>Adding scripting functionality to .NET applica...</td>\n",
              "      <td>I have a little game written in C#. It uses a ...</td>\n",
              "      <td>[c#, .net]</td>\n",
              "    </tr>\n",
              "    <tr>\n",
              "      <th>5</th>\n",
              "      <td>Should I use nested classes in this case?</td>\n",
              "      <td>I am working on a collection of classes used f...</td>\n",
              "      <td>[c++, oop, class]</td>\n",
              "    </tr>\n",
              "  </tbody>\n",
              "</table>\n",
              "</div>\n",
              "    <div class=\"colab-df-buttons\">\n",
              "\n",
              "  <div class=\"colab-df-container\">\n",
              "    <button class=\"colab-df-convert\" onclick=\"convertToInteractive('df-3861afbf-4184-491a-82f3-35939d1ae87f')\"\n",
              "            title=\"Convert this dataframe to an interactive table.\"\n",
              "            style=\"display:none;\">\n",
              "\n",
              "  <svg xmlns=\"http://www.w3.org/2000/svg\" height=\"24px\" viewBox=\"0 -960 960 960\">\n",
              "    <path d=\"M120-120v-720h720v720H120Zm60-500h600v-160H180v160Zm220 220h160v-160H400v160Zm0 220h160v-160H400v160ZM180-400h160v-160H180v160Zm440 0h160v-160H620v160ZM180-180h160v-160H180v160Zm440 0h160v-160H620v160Z\"/>\n",
              "  </svg>\n",
              "    </button>\n",
              "\n",
              "  <style>\n",
              "    .colab-df-container {\n",
              "      display:flex;\n",
              "      gap: 12px;\n",
              "    }\n",
              "\n",
              "    .colab-df-convert {\n",
              "      background-color: #E8F0FE;\n",
              "      border: none;\n",
              "      border-radius: 50%;\n",
              "      cursor: pointer;\n",
              "      display: none;\n",
              "      fill: #1967D2;\n",
              "      height: 32px;\n",
              "      padding: 0 0 0 0;\n",
              "      width: 32px;\n",
              "    }\n",
              "\n",
              "    .colab-df-convert:hover {\n",
              "      background-color: #E2EBFA;\n",
              "      box-shadow: 0px 1px 2px rgba(60, 64, 67, 0.3), 0px 1px 3px 1px rgba(60, 64, 67, 0.15);\n",
              "      fill: #174EA6;\n",
              "    }\n",
              "\n",
              "    .colab-df-buttons div {\n",
              "      margin-bottom: 4px;\n",
              "    }\n",
              "\n",
              "    [theme=dark] .colab-df-convert {\n",
              "      background-color: #3B4455;\n",
              "      fill: #D2E3FC;\n",
              "    }\n",
              "\n",
              "    [theme=dark] .colab-df-convert:hover {\n",
              "      background-color: #434B5C;\n",
              "      box-shadow: 0px 1px 3px 1px rgba(0, 0, 0, 0.15);\n",
              "      filter: drop-shadow(0px 1px 2px rgba(0, 0, 0, 0.3));\n",
              "      fill: #FFFFFF;\n",
              "    }\n",
              "  </style>\n",
              "\n",
              "    <script>\n",
              "      const buttonEl =\n",
              "        document.querySelector('#df-3861afbf-4184-491a-82f3-35939d1ae87f button.colab-df-convert');\n",
              "      buttonEl.style.display =\n",
              "        google.colab.kernel.accessAllowed ? 'block' : 'none';\n",
              "\n",
              "      async function convertToInteractive(key) {\n",
              "        const element = document.querySelector('#df-3861afbf-4184-491a-82f3-35939d1ae87f');\n",
              "        const dataTable =\n",
              "          await google.colab.kernel.invokeFunction('convertToInteractive',\n",
              "                                                    [key], {});\n",
              "        if (!dataTable) return;\n",
              "\n",
              "        const docLinkHtml = 'Like what you see? Visit the ' +\n",
              "          '<a target=\"_blank\" href=https://colab.research.google.com/notebooks/data_table.ipynb>data table notebook</a>'\n",
              "          + ' to learn more about interactive tables.';\n",
              "        element.innerHTML = '';\n",
              "        dataTable['output_type'] = 'display_data';\n",
              "        await google.colab.output.renderOutput(dataTable, element);\n",
              "        const docLink = document.createElement('div');\n",
              "        docLink.innerHTML = docLinkHtml;\n",
              "        element.appendChild(docLink);\n",
              "      }\n",
              "    </script>\n",
              "  </div>\n",
              "\n",
              "\n",
              "<div id=\"df-6c0cec07-05f3-4f49-b130-dcff8d3346a0\">\n",
              "  <button class=\"colab-df-quickchart\" onclick=\"quickchart('df-6c0cec07-05f3-4f49-b130-dcff8d3346a0')\"\n",
              "            title=\"Suggest charts.\"\n",
              "            style=\"display:none;\">\n",
              "\n",
              "<svg xmlns=\"http://www.w3.org/2000/svg\" height=\"24px\"viewBox=\"0 0 24 24\"\n",
              "     width=\"24px\">\n",
              "    <g>\n",
              "        <path d=\"M19 3H5c-1.1 0-2 .9-2 2v14c0 1.1.9 2 2 2h14c1.1 0 2-.9 2-2V5c0-1.1-.9-2-2-2zM9 17H7v-7h2v7zm4 0h-2V7h2v10zm4 0h-2v-4h2v4z\"/>\n",
              "    </g>\n",
              "</svg>\n",
              "  </button>\n",
              "\n",
              "<style>\n",
              "  .colab-df-quickchart {\n",
              "    background-color: #E8F0FE;\n",
              "    border: none;\n",
              "    border-radius: 50%;\n",
              "    cursor: pointer;\n",
              "    display: none;\n",
              "    fill: #1967D2;\n",
              "    height: 32px;\n",
              "    padding: 0 0 0 0;\n",
              "    width: 32px;\n",
              "  }\n",
              "\n",
              "  .colab-df-quickchart:hover {\n",
              "    background-color: #E2EBFA;\n",
              "    box-shadow: 0px 1px 2px rgba(60, 64, 67, 0.3), 0px 1px 3px 1px rgba(60, 64, 67, 0.15);\n",
              "    fill: #174EA6;\n",
              "  }\n",
              "\n",
              "  [theme=dark] .colab-df-quickchart {\n",
              "    background-color: #3B4455;\n",
              "    fill: #D2E3FC;\n",
              "  }\n",
              "\n",
              "  [theme=dark] .colab-df-quickchart:hover {\n",
              "    background-color: #434B5C;\n",
              "    box-shadow: 0px 1px 3px 1px rgba(0, 0, 0, 0.15);\n",
              "    filter: drop-shadow(0px 1px 2px rgba(0, 0, 0, 0.3));\n",
              "    fill: #FFFFFF;\n",
              "  }\n",
              "</style>\n",
              "\n",
              "  <script>\n",
              "    async function quickchart(key) {\n",
              "      const charts = await google.colab.kernel.invokeFunction(\n",
              "          'suggestCharts', [key], {});\n",
              "    }\n",
              "    (() => {\n",
              "      let quickchartButtonEl =\n",
              "        document.querySelector('#df-6c0cec07-05f3-4f49-b130-dcff8d3346a0 button');\n",
              "      quickchartButtonEl.style.display =\n",
              "        google.colab.kernel.accessAllowed ? 'block' : 'none';\n",
              "    })();\n",
              "  </script>\n",
              "</div>\n",
              "    </div>\n",
              "  </div>\n"
            ]
          },
          "metadata": {},
          "execution_count": 37
        }
      ]
    },
    {
      "cell_type": "code",
      "source": [
        "from nltk.tokenize import ToktokTokenizer"
      ],
      "metadata": {
        "id": "6R36D2BdpryV"
      },
      "execution_count": null,
      "outputs": []
    },
    {
      "cell_type": "code",
      "source": [
        "token=ToktokTokenizer()"
      ],
      "metadata": {
        "id": "PbdmAYc3plH4"
      },
      "execution_count": null,
      "outputs": []
    },
    {
      "cell_type": "code",
      "source": [
        "import string"
      ],
      "metadata": {
        "id": "9iDFS9BPp7kM"
      },
      "execution_count": null,
      "outputs": []
    },
    {
      "cell_type": "code",
      "source": [
        "def remove_punctuation(text):\n",
        "    words=token.tokenize(text)\n",
        "    filtered=[]\n",
        "    for w in words:\n",
        "        if w not in tags_features:\n",
        "            new_w=w.translate(str.maketrans('', '', string.punctuation))\n",
        "            filtered.append(new_w)\n",
        "        else:\n",
        "            filtered.append(w)\n",
        "    s = \" \"\n",
        "    s=s.join(filtered)\n",
        "    return s\n"
      ],
      "metadata": {
        "id": "ojYWkQ_ZppHg"
      },
      "execution_count": null,
      "outputs": []
    },
    {
      "cell_type": "code",
      "source": [
        "text=\"I have issue with pandas and c# immitation. / \"\n",
        "words=token.tokenize(text)\n",
        "filtered=[]\n",
        "for w in words:\n",
        "    if w not in tags_features:\n",
        "        new_w=w.translate(str.maketrans('', '', string.punctuation))\n",
        "        filtered.append(new_w)\n",
        "    else:\n",
        "        filtered.append(w)\n",
        "print(filtered)\n",
        "s = \" \"\n",
        "s=s.join(filtered)\n",
        "print(s)\n",
        "print(\"Working well......................\")"
      ],
      "metadata": {
        "colab": {
          "base_uri": "https://localhost:8080/"
        },
        "id": "SC0kL8c7p2vc",
        "outputId": "daa472e2-4186-457c-e72c-d284d60aa91e"
      },
      "execution_count": null,
      "outputs": [
        {
          "output_type": "stream",
          "name": "stdout",
          "text": [
            "['I', 'have', 'issue', 'with', 'pandas', 'and', 'c#', 'immitation', '']\n",
            "I have issue with pandas and c# immitation \n",
            "Working well......................\n"
          ]
        }
      ]
    },
    {
      "cell_type": "code",
      "source": [
        "import re"
      ],
      "metadata": {
        "id": "JdRC-T7SqAh5"
      },
      "execution_count": null,
      "outputs": []
    },
    {
      "cell_type": "code",
      "source": [
        "def clean_text(text):\n",
        "    text = text.lower()\n",
        "    text = re.sub(r\"what's\", \"what is \", text)\n",
        "    text = re.sub(r\"\\'s\", \" \", text)\n",
        "    text = re.sub(r\"\\'ve\", \" have \", text)\n",
        "    text = re.sub(r\"can't\", \"can not \", text)\n",
        "    text = re.sub(r\"n't\", \" not \", text)\n",
        "    text = re.sub(r\"i'm\", \"i am \", text)\n",
        "    text = re.sub(r\"\\'re\", \" are \", text)\n",
        "    text = re.sub(r\"\\'d\", \" would \", text)\n",
        "    text = re.sub(r\"\\'ll\", \" will \", text)\n",
        "    text = re.sub(r\"\\'scuse\", \" excuse \", text)\n",
        "    text = re.sub(r\"\\'\\n\", \" \", text)\n",
        "    text = re.sub(r\"\\'\\xa0\", \" \", text)\n",
        "    text = re.sub('\\s+', ' ', text)\n",
        "    text = text.strip(' ')\n",
        "    return text"
      ],
      "metadata": {
        "id": "J5Te117SqdBt"
      },
      "execution_count": null,
      "outputs": []
    },
    {
      "cell_type": "code",
      "source": [
        "new_df['Body'] = new_df['Body'].apply(lambda x: clean_text(x))"
      ],
      "metadata": {
        "id": "oyiKFwuUqeRR"
      },
      "execution_count": null,
      "outputs": []
    },
    {
      "cell_type": "code",
      "source": [
        "new_df['Body']= new_df['Body'].apply(lambda x: re.sub('<[^<]+?>','',x))\n",
        "new_df.head()"
      ],
      "metadata": {
        "colab": {
          "base_uri": "https://localhost:8080/",
          "height": 206
        },
        "id": "jr4-voz-qf1w",
        "outputId": "685359fa-9c7e-439b-f227-ea057a8184c8"
      },
      "execution_count": null,
      "outputs": [
        {
          "output_type": "execute_result",
          "data": {
            "text/plain": [
              "                                               Title  \\\n",
              "1  Good branching and merging tutorials for Torto...   \n",
              "2                                  ASP.NET Site Maps   \n",
              "3                 Function for creating color wheels   \n",
              "4  Adding scripting functionality to .NET applica...   \n",
              "5          Should I use nested classes in this case?   \n",
              "\n",
              "                                                Body               Tags  \n",
              "1  are there any really good tutorials explaining...              [svn]  \n",
              "2  has anyone got experience creating sql-based a...     [sql, asp.net]  \n",
              "3  this is something i have pseudo-solved many ti...        [algorithm]  \n",
              "4  i have a little game written in c#. it uses a ...         [c#, .net]  \n",
              "5  i am working on a collection of classes used f...  [c++, oop, class]  "
            ],
            "text/html": [
              "\n",
              "  <div id=\"df-c61972a3-9731-45cc-b063-348f82d65aae\" class=\"colab-df-container\">\n",
              "    <div>\n",
              "<style scoped>\n",
              "    .dataframe tbody tr th:only-of-type {\n",
              "        vertical-align: middle;\n",
              "    }\n",
              "\n",
              "    .dataframe tbody tr th {\n",
              "        vertical-align: top;\n",
              "    }\n",
              "\n",
              "    .dataframe thead th {\n",
              "        text-align: right;\n",
              "    }\n",
              "</style>\n",
              "<table border=\"1\" class=\"dataframe\">\n",
              "  <thead>\n",
              "    <tr style=\"text-align: right;\">\n",
              "      <th></th>\n",
              "      <th>Title</th>\n",
              "      <th>Body</th>\n",
              "      <th>Tags</th>\n",
              "    </tr>\n",
              "  </thead>\n",
              "  <tbody>\n",
              "    <tr>\n",
              "      <th>1</th>\n",
              "      <td>Good branching and merging tutorials for Torto...</td>\n",
              "      <td>are there any really good tutorials explaining...</td>\n",
              "      <td>[svn]</td>\n",
              "    </tr>\n",
              "    <tr>\n",
              "      <th>2</th>\n",
              "      <td>ASP.NET Site Maps</td>\n",
              "      <td>has anyone got experience creating sql-based a...</td>\n",
              "      <td>[sql, asp.net]</td>\n",
              "    </tr>\n",
              "    <tr>\n",
              "      <th>3</th>\n",
              "      <td>Function for creating color wheels</td>\n",
              "      <td>this is something i have pseudo-solved many ti...</td>\n",
              "      <td>[algorithm]</td>\n",
              "    </tr>\n",
              "    <tr>\n",
              "      <th>4</th>\n",
              "      <td>Adding scripting functionality to .NET applica...</td>\n",
              "      <td>i have a little game written in c#. it uses a ...</td>\n",
              "      <td>[c#, .net]</td>\n",
              "    </tr>\n",
              "    <tr>\n",
              "      <th>5</th>\n",
              "      <td>Should I use nested classes in this case?</td>\n",
              "      <td>i am working on a collection of classes used f...</td>\n",
              "      <td>[c++, oop, class]</td>\n",
              "    </tr>\n",
              "  </tbody>\n",
              "</table>\n",
              "</div>\n",
              "    <div class=\"colab-df-buttons\">\n",
              "\n",
              "  <div class=\"colab-df-container\">\n",
              "    <button class=\"colab-df-convert\" onclick=\"convertToInteractive('df-c61972a3-9731-45cc-b063-348f82d65aae')\"\n",
              "            title=\"Convert this dataframe to an interactive table.\"\n",
              "            style=\"display:none;\">\n",
              "\n",
              "  <svg xmlns=\"http://www.w3.org/2000/svg\" height=\"24px\" viewBox=\"0 -960 960 960\">\n",
              "    <path d=\"M120-120v-720h720v720H120Zm60-500h600v-160H180v160Zm220 220h160v-160H400v160Zm0 220h160v-160H400v160ZM180-400h160v-160H180v160Zm440 0h160v-160H620v160ZM180-180h160v-160H180v160Zm440 0h160v-160H620v160Z\"/>\n",
              "  </svg>\n",
              "    </button>\n",
              "\n",
              "  <style>\n",
              "    .colab-df-container {\n",
              "      display:flex;\n",
              "      gap: 12px;\n",
              "    }\n",
              "\n",
              "    .colab-df-convert {\n",
              "      background-color: #E8F0FE;\n",
              "      border: none;\n",
              "      border-radius: 50%;\n",
              "      cursor: pointer;\n",
              "      display: none;\n",
              "      fill: #1967D2;\n",
              "      height: 32px;\n",
              "      padding: 0 0 0 0;\n",
              "      width: 32px;\n",
              "    }\n",
              "\n",
              "    .colab-df-convert:hover {\n",
              "      background-color: #E2EBFA;\n",
              "      box-shadow: 0px 1px 2px rgba(60, 64, 67, 0.3), 0px 1px 3px 1px rgba(60, 64, 67, 0.15);\n",
              "      fill: #174EA6;\n",
              "    }\n",
              "\n",
              "    .colab-df-buttons div {\n",
              "      margin-bottom: 4px;\n",
              "    }\n",
              "\n",
              "    [theme=dark] .colab-df-convert {\n",
              "      background-color: #3B4455;\n",
              "      fill: #D2E3FC;\n",
              "    }\n",
              "\n",
              "    [theme=dark] .colab-df-convert:hover {\n",
              "      background-color: #434B5C;\n",
              "      box-shadow: 0px 1px 3px 1px rgba(0, 0, 0, 0.15);\n",
              "      filter: drop-shadow(0px 1px 2px rgba(0, 0, 0, 0.3));\n",
              "      fill: #FFFFFF;\n",
              "    }\n",
              "  </style>\n",
              "\n",
              "    <script>\n",
              "      const buttonEl =\n",
              "        document.querySelector('#df-c61972a3-9731-45cc-b063-348f82d65aae button.colab-df-convert');\n",
              "      buttonEl.style.display =\n",
              "        google.colab.kernel.accessAllowed ? 'block' : 'none';\n",
              "\n",
              "      async function convertToInteractive(key) {\n",
              "        const element = document.querySelector('#df-c61972a3-9731-45cc-b063-348f82d65aae');\n",
              "        const dataTable =\n",
              "          await google.colab.kernel.invokeFunction('convertToInteractive',\n",
              "                                                    [key], {});\n",
              "        if (!dataTable) return;\n",
              "\n",
              "        const docLinkHtml = 'Like what you see? Visit the ' +\n",
              "          '<a target=\"_blank\" href=https://colab.research.google.com/notebooks/data_table.ipynb>data table notebook</a>'\n",
              "          + ' to learn more about interactive tables.';\n",
              "        element.innerHTML = '';\n",
              "        dataTable['output_type'] = 'display_data';\n",
              "        await google.colab.output.renderOutput(dataTable, element);\n",
              "        const docLink = document.createElement('div');\n",
              "        docLink.innerHTML = docLinkHtml;\n",
              "        element.appendChild(docLink);\n",
              "      }\n",
              "    </script>\n",
              "  </div>\n",
              "\n",
              "\n",
              "<div id=\"df-02d9798b-bce6-4e66-b946-b401079dcf88\">\n",
              "  <button class=\"colab-df-quickchart\" onclick=\"quickchart('df-02d9798b-bce6-4e66-b946-b401079dcf88')\"\n",
              "            title=\"Suggest charts.\"\n",
              "            style=\"display:none;\">\n",
              "\n",
              "<svg xmlns=\"http://www.w3.org/2000/svg\" height=\"24px\"viewBox=\"0 0 24 24\"\n",
              "     width=\"24px\">\n",
              "    <g>\n",
              "        <path d=\"M19 3H5c-1.1 0-2 .9-2 2v14c0 1.1.9 2 2 2h14c1.1 0 2-.9 2-2V5c0-1.1-.9-2-2-2zM9 17H7v-7h2v7zm4 0h-2V7h2v10zm4 0h-2v-4h2v4z\"/>\n",
              "    </g>\n",
              "</svg>\n",
              "  </button>\n",
              "\n",
              "<style>\n",
              "  .colab-df-quickchart {\n",
              "    background-color: #E8F0FE;\n",
              "    border: none;\n",
              "    border-radius: 50%;\n",
              "    cursor: pointer;\n",
              "    display: none;\n",
              "    fill: #1967D2;\n",
              "    height: 32px;\n",
              "    padding: 0 0 0 0;\n",
              "    width: 32px;\n",
              "  }\n",
              "\n",
              "  .colab-df-quickchart:hover {\n",
              "    background-color: #E2EBFA;\n",
              "    box-shadow: 0px 1px 2px rgba(60, 64, 67, 0.3), 0px 1px 3px 1px rgba(60, 64, 67, 0.15);\n",
              "    fill: #174EA6;\n",
              "  }\n",
              "\n",
              "  [theme=dark] .colab-df-quickchart {\n",
              "    background-color: #3B4455;\n",
              "    fill: #D2E3FC;\n",
              "  }\n",
              "\n",
              "  [theme=dark] .colab-df-quickchart:hover {\n",
              "    background-color: #434B5C;\n",
              "    box-shadow: 0px 1px 3px 1px rgba(0, 0, 0, 0.15);\n",
              "    filter: drop-shadow(0px 1px 2px rgba(0, 0, 0, 0.3));\n",
              "    fill: #FFFFFF;\n",
              "  }\n",
              "</style>\n",
              "\n",
              "  <script>\n",
              "    async function quickchart(key) {\n",
              "      const charts = await google.colab.kernel.invokeFunction(\n",
              "          'suggestCharts', [key], {});\n",
              "    }\n",
              "    (() => {\n",
              "      let quickchartButtonEl =\n",
              "        document.querySelector('#df-02d9798b-bce6-4e66-b946-b401079dcf88 button');\n",
              "      quickchartButtonEl.style.display =\n",
              "        google.colab.kernel.accessAllowed ? 'block' : 'none';\n",
              "    })();\n",
              "  </script>\n",
              "</div>\n",
              "    </div>\n",
              "  </div>\n"
            ]
          },
          "metadata": {},
          "execution_count": 46
        }
      ]
    },
    {
      "cell_type": "code",
      "source": [
        "new_df['Body'] = new_df['Body'].apply(lambda x: remove_punctuation(x))"
      ],
      "metadata": {
        "id": "RtJAJOMnqihn"
      },
      "execution_count": null,
      "outputs": []
    },
    {
      "cell_type": "code",
      "source": [
        "new_df['Body'][10]"
      ],
      "metadata": {
        "colab": {
          "base_uri": "https://localhost:8080/",
          "height": 36
        },
        "id": "IcJVpMO2qlNT",
        "outputId": "7de068a8-12d4-433a-fff6-ce70817ad167"
      },
      "execution_count": null,
      "outputs": [
        {
          "output_type": "execute_result",
          "data": {
            "text/plain": [
              "'what is the simplest way to connect and query a database for a set of records in c# '"
            ],
            "application/vnd.google.colaboratory.intrinsic+json": {
              "type": "string"
            }
          },
          "metadata": {},
          "execution_count": 48
        }
      ]
    },
    {
      "cell_type": "code",
      "source": [
        "from nltk.stem.wordnet import WordNetLemmatizer\n",
        "from nltk.corpus import stopwords"
      ],
      "metadata": {
        "id": "ObwKGiofqqYw"
      },
      "execution_count": null,
      "outputs": []
    },
    {
      "cell_type": "code",
      "source": [
        "nltk.download('stopwords')"
      ],
      "metadata": {
        "colab": {
          "base_uri": "https://localhost:8080/"
        },
        "id": "ZoFWj_U3rfyN",
        "outputId": "97f0745c-6dde-4053-e9ed-c6f5c3bdbd9a"
      },
      "execution_count": null,
      "outputs": [
        {
          "output_type": "stream",
          "name": "stderr",
          "text": [
            "[nltk_data] Downloading package stopwords to /root/nltk_data...\n",
            "[nltk_data]   Unzipping corpora/stopwords.zip.\n"
          ]
        },
        {
          "output_type": "execute_result",
          "data": {
            "text/plain": [
              "True"
            ]
          },
          "metadata": {},
          "execution_count": 50
        }
      ]
    },
    {
      "cell_type": "code",
      "source": [
        "lemma = WordNetLemmatizer()\n",
        "stopword = set(stopwords.words('english'))"
      ],
      "metadata": {
        "id": "NUQw2PX9rDbz"
      },
      "execution_count": null,
      "outputs": []
    },
    {
      "cell_type": "code",
      "source": [
        "def lemitizeWords(text):\n",
        "    words=token.tokenize(text)\n",
        "    listLemma=[]\n",
        "    for w in words:\n",
        "        x=lemma.lemmatize(w, pos=\"v\")\n",
        "        listLemma.append(x)\n",
        "    return ' '.join(map(str, listLemma))\n",
        "\n",
        "def stopWordsRemove(text):\n",
        "\n",
        "    stop_words = set(stopwords.words(\"english\"))\n",
        "\n",
        "    words=token.tokenize(text)\n",
        "\n",
        "    filtered = [w for w in words if not w in stop_words]\n",
        "\n",
        "    return ' '.join(map(str, filtered))"
      ],
      "metadata": {
        "id": "bTxuW_X5rcNP"
      },
      "execution_count": null,
      "outputs": []
    },
    {
      "cell_type": "code",
      "source": [
        "nltk.download('wordnet')"
      ],
      "metadata": {
        "colab": {
          "base_uri": "https://localhost:8080/"
        },
        "id": "VjGj2OuUroJ3",
        "outputId": "0162fbeb-fecc-4c45-bf3c-5466c9e8ca38"
      },
      "execution_count": null,
      "outputs": [
        {
          "output_type": "stream",
          "name": "stderr",
          "text": [
            "[nltk_data] Downloading package wordnet to /root/nltk_data...\n"
          ]
        },
        {
          "output_type": "execute_result",
          "data": {
            "text/plain": [
              "True"
            ]
          },
          "metadata": {},
          "execution_count": 53
        }
      ]
    },
    {
      "cell_type": "code",
      "source": [
        "new_df['Body'] = new_df['Body'].apply(lambda x: lemitizeWords(x))\n",
        "new_df['Body'] = new_df['Body'].apply(lambda x: stopWordsRemove(x))"
      ],
      "metadata": {
        "id": "utvyT0Y-rjh3"
      },
      "execution_count": null,
      "outputs": []
    },
    {
      "cell_type": "code",
      "source": [
        "new_df['Title'] = new_df['Title'].apply(lambda x: str(x))\n",
        "new_df['Title'] = new_df['Title'].apply(lambda x: clean_text(x))\n",
        "new_df['Title'] = new_df['Title'].apply(lambda x: remove_punctuation(x))\n",
        "new_df['Title'] = new_df['Title'].apply(lambda x: lemitizeWords(x))\n",
        "new_df['Title'] = new_df['Title'].apply(lambda x: stopWordsRemove(x))"
      ],
      "metadata": {
        "id": "WcVH22ldrlwJ"
      },
      "execution_count": null,
      "outputs": []
    },
    {
      "cell_type": "code",
      "source": [
        "new_df.head()"
      ],
      "metadata": {
        "colab": {
          "base_uri": "https://localhost:8080/",
          "height": 206
        },
        "id": "ol85y3e9uKxO",
        "outputId": "9df154b4-439c-4ab9-848d-bb99c38c25c6"
      },
      "execution_count": null,
      "outputs": [
        {
          "output_type": "execute_result",
          "data": {
            "text/plain": [
              "                                        Title  \\\n",
              "1     good branch merge tutorials tortoisesvn   \n",
              "2                            asp.net site map   \n",
              "3                 function create color wheel   \n",
              "4  add script functionality .net applications   \n",
              "5                         use nest class case   \n",
              "\n",
              "                                                Body               Tags  \n",
              "1  really good tutorials explain branch merge apa...              [svn]  \n",
              "2  anyone get experience create sqlbased asp.net ...     [sql, asp.net]  \n",
              "3  something pseudosolved many time never quite f...        [algorithm]  \n",
              "4  little game write c use database backend trade...         [c#, .net]  \n",
              "5  work collection class use video playback recor...  [c++, oop, class]  "
            ],
            "text/html": [
              "\n",
              "  <div id=\"df-a2b3fbb9-c523-44f6-8136-e8e702c91e5a\" class=\"colab-df-container\">\n",
              "    <div>\n",
              "<style scoped>\n",
              "    .dataframe tbody tr th:only-of-type {\n",
              "        vertical-align: middle;\n",
              "    }\n",
              "\n",
              "    .dataframe tbody tr th {\n",
              "        vertical-align: top;\n",
              "    }\n",
              "\n",
              "    .dataframe thead th {\n",
              "        text-align: right;\n",
              "    }\n",
              "</style>\n",
              "<table border=\"1\" class=\"dataframe\">\n",
              "  <thead>\n",
              "    <tr style=\"text-align: right;\">\n",
              "      <th></th>\n",
              "      <th>Title</th>\n",
              "      <th>Body</th>\n",
              "      <th>Tags</th>\n",
              "    </tr>\n",
              "  </thead>\n",
              "  <tbody>\n",
              "    <tr>\n",
              "      <th>1</th>\n",
              "      <td>good branch merge tutorials tortoisesvn</td>\n",
              "      <td>really good tutorials explain branch merge apa...</td>\n",
              "      <td>[svn]</td>\n",
              "    </tr>\n",
              "    <tr>\n",
              "      <th>2</th>\n",
              "      <td>asp.net site map</td>\n",
              "      <td>anyone get experience create sqlbased asp.net ...</td>\n",
              "      <td>[sql, asp.net]</td>\n",
              "    </tr>\n",
              "    <tr>\n",
              "      <th>3</th>\n",
              "      <td>function create color wheel</td>\n",
              "      <td>something pseudosolved many time never quite f...</td>\n",
              "      <td>[algorithm]</td>\n",
              "    </tr>\n",
              "    <tr>\n",
              "      <th>4</th>\n",
              "      <td>add script functionality .net applications</td>\n",
              "      <td>little game write c use database backend trade...</td>\n",
              "      <td>[c#, .net]</td>\n",
              "    </tr>\n",
              "    <tr>\n",
              "      <th>5</th>\n",
              "      <td>use nest class case</td>\n",
              "      <td>work collection class use video playback recor...</td>\n",
              "      <td>[c++, oop, class]</td>\n",
              "    </tr>\n",
              "  </tbody>\n",
              "</table>\n",
              "</div>\n",
              "    <div class=\"colab-df-buttons\">\n",
              "\n",
              "  <div class=\"colab-df-container\">\n",
              "    <button class=\"colab-df-convert\" onclick=\"convertToInteractive('df-a2b3fbb9-c523-44f6-8136-e8e702c91e5a')\"\n",
              "            title=\"Convert this dataframe to an interactive table.\"\n",
              "            style=\"display:none;\">\n",
              "\n",
              "  <svg xmlns=\"http://www.w3.org/2000/svg\" height=\"24px\" viewBox=\"0 -960 960 960\">\n",
              "    <path d=\"M120-120v-720h720v720H120Zm60-500h600v-160H180v160Zm220 220h160v-160H400v160Zm0 220h160v-160H400v160ZM180-400h160v-160H180v160Zm440 0h160v-160H620v160ZM180-180h160v-160H180v160Zm440 0h160v-160H620v160Z\"/>\n",
              "  </svg>\n",
              "    </button>\n",
              "\n",
              "  <style>\n",
              "    .colab-df-container {\n",
              "      display:flex;\n",
              "      gap: 12px;\n",
              "    }\n",
              "\n",
              "    .colab-df-convert {\n",
              "      background-color: #E8F0FE;\n",
              "      border: none;\n",
              "      border-radius: 50%;\n",
              "      cursor: pointer;\n",
              "      display: none;\n",
              "      fill: #1967D2;\n",
              "      height: 32px;\n",
              "      padding: 0 0 0 0;\n",
              "      width: 32px;\n",
              "    }\n",
              "\n",
              "    .colab-df-convert:hover {\n",
              "      background-color: #E2EBFA;\n",
              "      box-shadow: 0px 1px 2px rgba(60, 64, 67, 0.3), 0px 1px 3px 1px rgba(60, 64, 67, 0.15);\n",
              "      fill: #174EA6;\n",
              "    }\n",
              "\n",
              "    .colab-df-buttons div {\n",
              "      margin-bottom: 4px;\n",
              "    }\n",
              "\n",
              "    [theme=dark] .colab-df-convert {\n",
              "      background-color: #3B4455;\n",
              "      fill: #D2E3FC;\n",
              "    }\n",
              "\n",
              "    [theme=dark] .colab-df-convert:hover {\n",
              "      background-color: #434B5C;\n",
              "      box-shadow: 0px 1px 3px 1px rgba(0, 0, 0, 0.15);\n",
              "      filter: drop-shadow(0px 1px 2px rgba(0, 0, 0, 0.3));\n",
              "      fill: #FFFFFF;\n",
              "    }\n",
              "  </style>\n",
              "\n",
              "    <script>\n",
              "      const buttonEl =\n",
              "        document.querySelector('#df-a2b3fbb9-c523-44f6-8136-e8e702c91e5a button.colab-df-convert');\n",
              "      buttonEl.style.display =\n",
              "        google.colab.kernel.accessAllowed ? 'block' : 'none';\n",
              "\n",
              "      async function convertToInteractive(key) {\n",
              "        const element = document.querySelector('#df-a2b3fbb9-c523-44f6-8136-e8e702c91e5a');\n",
              "        const dataTable =\n",
              "          await google.colab.kernel.invokeFunction('convertToInteractive',\n",
              "                                                    [key], {});\n",
              "        if (!dataTable) return;\n",
              "\n",
              "        const docLinkHtml = 'Like what you see? Visit the ' +\n",
              "          '<a target=\"_blank\" href=https://colab.research.google.com/notebooks/data_table.ipynb>data table notebook</a>'\n",
              "          + ' to learn more about interactive tables.';\n",
              "        element.innerHTML = '';\n",
              "        dataTable['output_type'] = 'display_data';\n",
              "        await google.colab.output.renderOutput(dataTable, element);\n",
              "        const docLink = document.createElement('div');\n",
              "        docLink.innerHTML = docLinkHtml;\n",
              "        element.appendChild(docLink);\n",
              "      }\n",
              "    </script>\n",
              "  </div>\n",
              "\n",
              "\n",
              "<div id=\"df-cfef1fb9-2d07-4ac6-8754-c8e31e97e544\">\n",
              "  <button class=\"colab-df-quickchart\" onclick=\"quickchart('df-cfef1fb9-2d07-4ac6-8754-c8e31e97e544')\"\n",
              "            title=\"Suggest charts.\"\n",
              "            style=\"display:none;\">\n",
              "\n",
              "<svg xmlns=\"http://www.w3.org/2000/svg\" height=\"24px\"viewBox=\"0 0 24 24\"\n",
              "     width=\"24px\">\n",
              "    <g>\n",
              "        <path d=\"M19 3H5c-1.1 0-2 .9-2 2v14c0 1.1.9 2 2 2h14c1.1 0 2-.9 2-2V5c0-1.1-.9-2-2-2zM9 17H7v-7h2v7zm4 0h-2V7h2v10zm4 0h-2v-4h2v4z\"/>\n",
              "    </g>\n",
              "</svg>\n",
              "  </button>\n",
              "\n",
              "<style>\n",
              "  .colab-df-quickchart {\n",
              "    background-color: #E8F0FE;\n",
              "    border: none;\n",
              "    border-radius: 50%;\n",
              "    cursor: pointer;\n",
              "    display: none;\n",
              "    fill: #1967D2;\n",
              "    height: 32px;\n",
              "    padding: 0 0 0 0;\n",
              "    width: 32px;\n",
              "  }\n",
              "\n",
              "  .colab-df-quickchart:hover {\n",
              "    background-color: #E2EBFA;\n",
              "    box-shadow: 0px 1px 2px rgba(60, 64, 67, 0.3), 0px 1px 3px 1px rgba(60, 64, 67, 0.15);\n",
              "    fill: #174EA6;\n",
              "  }\n",
              "\n",
              "  [theme=dark] .colab-df-quickchart {\n",
              "    background-color: #3B4455;\n",
              "    fill: #D2E3FC;\n",
              "  }\n",
              "\n",
              "  [theme=dark] .colab-df-quickchart:hover {\n",
              "    background-color: #434B5C;\n",
              "    box-shadow: 0px 1px 3px 1px rgba(0, 0, 0, 0.15);\n",
              "    filter: drop-shadow(0px 1px 2px rgba(0, 0, 0, 0.3));\n",
              "    fill: #FFFFFF;\n",
              "  }\n",
              "</style>\n",
              "\n",
              "  <script>\n",
              "    async function quickchart(key) {\n",
              "      const charts = await google.colab.kernel.invokeFunction(\n",
              "          'suggestCharts', [key], {});\n",
              "    }\n",
              "    (() => {\n",
              "      let quickchartButtonEl =\n",
              "        document.querySelector('#df-cfef1fb9-2d07-4ac6-8754-c8e31e97e544 button');\n",
              "      quickchartButtonEl.style.display =\n",
              "        google.colab.kernel.accessAllowed ? 'block' : 'none';\n",
              "    })();\n",
              "  </script>\n",
              "</div>\n",
              "    </div>\n",
              "  </div>\n"
            ]
          },
          "metadata": {},
          "execution_count": 56
        }
      ]
    },
    {
      "cell_type": "code",
      "source": [
        "from sklearn.feature_extraction.text import TfidfVectorizer"
      ],
      "metadata": {
        "id": "FT4-RpkAuMtO"
      },
      "execution_count": null,
      "outputs": []
    },
    {
      "cell_type": "markdown",
      "source": [
        "## Vectorization"
      ],
      "metadata": {
        "id": "Rd_FPG5Dgt9S"
      }
    },
    {
      "cell_type": "code",
      "source": [
        "new_df['Title']= new_df['Title'].astype(str)\n",
        "vectorizer = TfidfVectorizer(max_features=5000)\n",
        "X1 = vectorizer.fit_transform(new_df['Title'].str.lower())"
      ],
      "metadata": {
        "id": "4fKpKsNDuX3L"
      },
      "execution_count": null,
      "outputs": []
    },
    {
      "cell_type": "code",
      "source": [
        "new_df['Body']= new_df['Body'].astype(str)\n",
        "X2 = vectorizer.fit_transform(new_df['Body'].str.lower())"
      ],
      "metadata": {
        "id": "o2uFXQRWudna"
      },
      "execution_count": null,
      "outputs": []
    },
    {
      "cell_type": "code",
      "source": [
        "from sklearn.preprocessing import MultiLabelBinarizer"
      ],
      "metadata": {
        "id": "6eVq1YXGujLw"
      },
      "execution_count": null,
      "outputs": []
    },
    {
      "cell_type": "code",
      "source": [
        "y = new_df['Tags']\n",
        "multilabel_binarizer = MultiLabelBinarizer()\n",
        "new_y = multilabel_binarizer.fit_transform(y)"
      ],
      "metadata": {
        "id": "jKkkUYI3ufUV"
      },
      "execution_count": null,
      "outputs": []
    },
    {
      "cell_type": "code",
      "source": [
        "import pickle\n",
        "with open('label.pkl','wb') as f:\n",
        "  pickle.dump(multilabel_binarizer,f)"
      ],
      "metadata": {
        "id": "y16yVUWfxU8k"
      },
      "execution_count": null,
      "outputs": []
    },
    {
      "cell_type": "code",
      "source": [
        "new_y"
      ],
      "metadata": {
        "colab": {
          "base_uri": "https://localhost:8080/"
        },
        "id": "MEQMP9OUuiD1",
        "outputId": "59433392-c9d6-4222-e666-43ceb76371e8"
      },
      "execution_count": null,
      "outputs": [
        {
          "output_type": "execute_result",
          "data": {
            "text/plain": [
              "array([[0, 0, 0, ..., 0, 0, 0],\n",
              "       [0, 0, 0, ..., 0, 0, 0],\n",
              "       [0, 0, 1, ..., 0, 0, 0],\n",
              "       ...,\n",
              "       [0, 0, 0, ..., 0, 0, 0],\n",
              "       [0, 0, 0, ..., 0, 0, 0],\n",
              "       [0, 0, 0, ..., 0, 0, 0]])"
            ]
          },
          "metadata": {},
          "execution_count": 56
        }
      ]
    },
    {
      "cell_type": "code",
      "source": [
        "from scipy.sparse import hstack"
      ],
      "metadata": {
        "id": "-ni8VwACu14f"
      },
      "execution_count": null,
      "outputs": []
    },
    {
      "cell_type": "code",
      "source": [
        "X=hstack([X1,X2])"
      ],
      "metadata": {
        "id": "axYUwq_SusOQ"
      },
      "execution_count": null,
      "outputs": []
    },
    {
      "cell_type": "code",
      "source": [
        "X"
      ],
      "metadata": {
        "id": "I-GmYmwO0ZoH",
        "colab": {
          "base_uri": "https://localhost:8080/"
        },
        "outputId": "71a28c78-309b-4377-dcc4-1ae652b7a867"
      },
      "execution_count": null,
      "outputs": [
        {
          "output_type": "execute_result",
          "data": {
            "text/plain": [
              "<37075x10000 sparse matrix of type '<class 'numpy.float64'>'\n",
              "\twith 1584037 stored elements in Compressed Sparse Row format>"
            ]
          },
          "metadata": {},
          "execution_count": 59
        }
      ]
    },
    {
      "cell_type": "code",
      "source": [
        "import pickle\n",
        "with open('TokToktokenizer.pkl','wb') as f:\n",
        "  pickle.dump(token,f)"
      ],
      "metadata": {
        "id": "gPsmYII_3KxF"
      },
      "execution_count": null,
      "outputs": []
    },
    {
      "cell_type": "code",
      "source": [
        "import pickle\n",
        "with open('tfidfVector.pkl','wb') as f:\n",
        "  pickle.dump(vectorizer,f)"
      ],
      "metadata": {
        "id": "xszeXnRK19Vo"
      },
      "execution_count": null,
      "outputs": []
    },
    {
      "cell_type": "code",
      "source": [
        "import pickle\n",
        "with open('WordLemma.pkl','wb') as f:\n",
        "  pickle.dump(lemma,f)"
      ],
      "metadata": {
        "id": "uC3uaAcw2h07"
      },
      "execution_count": null,
      "outputs": []
    },
    {
      "cell_type": "code",
      "source": [
        "from sklearn.model_selection import  train_test_split"
      ],
      "metadata": {
        "id": "C0Um_s3svG08"
      },
      "execution_count": null,
      "outputs": []
    },
    {
      "cell_type": "code",
      "source": [
        "X_train, X_test, y_train, y_test = train_test_split(X, new_y, test_size = 0.3, random_state = 42)"
      ],
      "metadata": {
        "id": "Z4tZ_h3yuu5j"
      },
      "execution_count": null,
      "outputs": []
    },
    {
      "cell_type": "code",
      "source": [
        "print(X_train.shape, X_test.shape, y_train.shape, y_test.shape)"
      ],
      "metadata": {
        "colab": {
          "base_uri": "https://localhost:8080/"
        },
        "id": "ejZ-u_hFvGCx",
        "outputId": "24589d44-a3e3-4bed-a929-6385626b1e2b"
      },
      "execution_count": null,
      "outputs": [
        {
          "output_type": "stream",
          "name": "stdout",
          "text": [
            "(25952, 10000) (11123, 10000) (25952, 100) (11123, 100)\n"
          ]
        }
      ]
    },
    {
      "cell_type": "code",
      "source": [
        "from sklearn.metrics import hamming_loss"
      ],
      "metadata": {
        "id": "uXrOH0yVwlHk"
      },
      "execution_count": null,
      "outputs": []
    },
    {
      "cell_type": "code",
      "source": [
        "def print_score(y_pred, clf):\n",
        "    print(\"Classifier: \", clf.__class__.__name__)\n",
        "    jacard = np.minimum(y_test,y_pred).sum(axis=1) / np.maximum(y_test,y_pred).sum(axis=1)\n",
        "    score=jacard.mean()*100\n",
        "    print(\"Jacard score: {}\".format(score))\n",
        "    print(\"Hamming loss: {}\".format(hamming_loss(y_pred, y_test)*100))\n",
        "    F1_Score=metrics.classification_report(y_test, y_pred).split()[-2]\n",
        "    print('F1 Score of ',clf.__class__.__name__,\":\", F1_Score)\n",
        "    print(\"-----------------------------------------------------------\")\n",
        "    return F1_Score"
      ],
      "metadata": {
        "id": "DFHEbTq-vMsf"
      },
      "execution_count": null,
      "outputs": []
    },
    {
      "cell_type": "code",
      "source": [
        "from sklearn import metrics"
      ],
      "metadata": {
        "id": "8s5SHBj4vaCp"
      },
      "execution_count": null,
      "outputs": []
    },
    {
      "cell_type": "code",
      "source": [
        "from sklearn.linear_model import SGDClassifier, LogisticRegression, PassiveAggressiveClassifier, Perceptron\n",
        "from sklearn.svm import LinearSVC\n",
        "from sklearn.ensemble import RandomForestClassifier\n",
        "from sklearn.multiclass import OneVsRestClassifier"
      ],
      "metadata": {
        "id": "Fagf16YNveGQ"
      },
      "execution_count": null,
      "outputs": []
    },
    {
      "cell_type": "markdown",
      "source": [
        "## Training and Testing Model"
      ],
      "metadata": {
        "id": "uLNM4STT_U_s"
      }
    },
    {
      "cell_type": "code",
      "source": [
        "from tqdm import tqdm\n",
        "sgd = SGDClassifier()\n",
        "lr = LogisticRegression()\n",
        "# rf = RandomForestClassifier()\n",
        "svc = LinearSVC()\n",
        "perceptron = Perceptron()\n",
        "pac = PassiveAggressiveClassifier()\n",
        "Scores={}\n",
        "for classifier in [sgd, lr, svc, perceptron, pac]:\n",
        "    clf = OneVsRestClassifier(classifier)\n",
        "    clf.fit(X_train, y_train)\n",
        "    y_pred = clf.predict(X_test)\n",
        "    score=print_score(y_pred, classifier)\n",
        "    Scores[classifier]=score"
      ],
      "metadata": {
        "colab": {
          "base_uri": "https://localhost:8080/"
        },
        "id": "62AqMX8jvbax",
        "outputId": "f6e8dc22-d7c1-4ab4-b58b-a75a369ce83c"
      },
      "execution_count": null,
      "outputs": [
        {
          "output_type": "stream",
          "name": "stdout",
          "text": [
            "Classifier:  SGDClassifier\n",
            "Jacard score: 49.12418711978184\n",
            "Hamming loss: 0.9476759866942371\n",
            "F1 Score of  SGDClassifier : 0.54\n",
            "-----------------------------------------------------------\n"
          ]
        },
        {
          "output_type": "stream",
          "name": "stderr",
          "text": [
            "/usr/local/lib/python3.10/dist-packages/sklearn/metrics/_classification.py:1344: UndefinedMetricWarning: Precision and F-score are ill-defined and being set to 0.0 in labels with no predicted samples. Use `zero_division` parameter to control this behavior.\n",
            "  _warn_prf(average, modifier, msg_start, len(result))\n",
            "/usr/local/lib/python3.10/dist-packages/sklearn/metrics/_classification.py:1344: UndefinedMetricWarning: Precision and F-score are ill-defined and being set to 0.0 in samples with no predicted labels. Use `zero_division` parameter to control this behavior.\n",
            "  _warn_prf(average, modifier, msg_start, len(result))\n"
          ]
        },
        {
          "output_type": "stream",
          "name": "stdout",
          "text": [
            "Classifier:  LogisticRegression\n",
            "Jacard score: 42.51176241421678\n",
            "Hamming loss: 1.041086037939405\n",
            "F1 Score of  LogisticRegression : 0.47\n",
            "-----------------------------------------------------------\n"
          ]
        },
        {
          "output_type": "stream",
          "name": "stderr",
          "text": [
            "/usr/local/lib/python3.10/dist-packages/sklearn/metrics/_classification.py:1344: UndefinedMetricWarning: Precision and F-score are ill-defined and being set to 0.0 in labels with no predicted samples. Use `zero_division` parameter to control this behavior.\n",
            "  _warn_prf(average, modifier, msg_start, len(result))\n",
            "/usr/local/lib/python3.10/dist-packages/sklearn/metrics/_classification.py:1344: UndefinedMetricWarning: Precision and F-score are ill-defined and being set to 0.0 in samples with no predicted labels. Use `zero_division` parameter to control this behavior.\n",
            "  _warn_prf(average, modifier, msg_start, len(result))\n"
          ]
        },
        {
          "output_type": "stream",
          "name": "stdout",
          "text": [
            "Classifier:  LinearSVC\n",
            "Jacard score: 53.04788875902785\n",
            "Hamming loss: 0.9718601096826396\n",
            "F1 Score of  LinearSVC : 0.59\n",
            "-----------------------------------------------------------\n"
          ]
        },
        {
          "output_type": "stream",
          "name": "stderr",
          "text": [
            "/usr/local/lib/python3.10/dist-packages/sklearn/metrics/_classification.py:1344: UndefinedMetricWarning: Precision and F-score are ill-defined and being set to 0.0 in samples with no predicted labels. Use `zero_division` parameter to control this behavior.\n",
            "  _warn_prf(average, modifier, msg_start, len(result))\n"
          ]
        },
        {
          "output_type": "stream",
          "name": "stdout",
          "text": [
            "Classifier:  Perceptron\n",
            "Jacard score: 49.21875735819816\n",
            "Hamming loss: 1.2774431358446463\n",
            "F1 Score of  Perceptron : 0.56\n",
            "-----------------------------------------------------------\n"
          ]
        },
        {
          "output_type": "stream",
          "name": "stderr",
          "text": [
            "/usr/local/lib/python3.10/dist-packages/sklearn/metrics/_classification.py:1344: UndefinedMetricWarning: Precision and F-score are ill-defined and being set to 0.0 in samples with no predicted labels. Use `zero_division` parameter to control this behavior.\n",
            "  _warn_prf(average, modifier, msg_start, len(result))\n"
          ]
        },
        {
          "output_type": "stream",
          "name": "stdout",
          "text": [
            "Classifier:  PassiveAggressiveClassifier\n",
            "Jacard score: 50.85126057975109\n",
            "Hamming loss: 1.1780095298031108\n",
            "F1 Score of  PassiveAggressiveClassifier : 0.58\n",
            "-----------------------------------------------------------\n"
          ]
        },
        {
          "output_type": "stream",
          "name": "stderr",
          "text": [
            "/usr/local/lib/python3.10/dist-packages/sklearn/metrics/_classification.py:1344: UndefinedMetricWarning: Precision and F-score are ill-defined and being set to 0.0 in samples with no predicted labels. Use `zero_division` parameter to control this behavior.\n",
            "  _warn_prf(average, modifier, msg_start, len(result))\n"
          ]
        }
      ]
    },
    {
      "cell_type": "code",
      "source": [
        "import pickle"
      ],
      "metadata": {
        "id": "0vjUGt6vyVxk"
      },
      "execution_count": null,
      "outputs": []
    },
    {
      "cell_type": "code",
      "source": [
        "with open('clf.pkl', 'wb') as f:\n",
        "    pickle.dump(clf, f)"
      ],
      "metadata": {
        "id": "9rDzcaJwQGIp"
      },
      "execution_count": null,
      "outputs": []
    },
    {
      "cell_type": "markdown",
      "source": [
        "#Prediction"
      ],
      "metadata": {
        "id": "6ZXg7G5ZJTla"
      }
    },
    {
      "cell_type": "code",
      "source": [
        "import pandas as pd\n",
        "\n",
        "predData = {\n",
        "    \"title\": [\"serialization/deserialization using Java in python\"],\n",
        "    \"body\": [\"trying python to serialize Python and deserialize from class object to Python using Java package. After looking into some documentation succeeded in Java the json class object but, when json out with complex class am not able to deserialize json  objects\"]\n",
        "}\n",
        "\n",
        "pData = pd.DataFrame(predData)\n",
        "pData.head()\n"
      ],
      "metadata": {
        "colab": {
          "base_uri": "https://localhost:8080/",
          "height": 89
        },
        "id": "baqaPcDbJSBR",
        "outputId": "2890f9aa-3f1c-455a-e050-6e2229aab8fe"
      },
      "execution_count": null,
      "outputs": [
        {
          "output_type": "execute_result",
          "data": {
            "text/plain": [
              "                                               title  \\\n",
              "0  serialization/deserialization using Java in py...   \n",
              "\n",
              "                                                body  \n",
              "0  trying python to serialize Python and deserial...  "
            ],
            "text/html": [
              "\n",
              "  <div id=\"df-a00fa8de-fd25-4d33-8905-4a5e4dff4b4a\" class=\"colab-df-container\">\n",
              "    <div>\n",
              "<style scoped>\n",
              "    .dataframe tbody tr th:only-of-type {\n",
              "        vertical-align: middle;\n",
              "    }\n",
              "\n",
              "    .dataframe tbody tr th {\n",
              "        vertical-align: top;\n",
              "    }\n",
              "\n",
              "    .dataframe thead th {\n",
              "        text-align: right;\n",
              "    }\n",
              "</style>\n",
              "<table border=\"1\" class=\"dataframe\">\n",
              "  <thead>\n",
              "    <tr style=\"text-align: right;\">\n",
              "      <th></th>\n",
              "      <th>title</th>\n",
              "      <th>body</th>\n",
              "    </tr>\n",
              "  </thead>\n",
              "  <tbody>\n",
              "    <tr>\n",
              "      <th>0</th>\n",
              "      <td>serialization/deserialization using Java in py...</td>\n",
              "      <td>trying python to serialize Python and deserial...</td>\n",
              "    </tr>\n",
              "  </tbody>\n",
              "</table>\n",
              "</div>\n",
              "    <div class=\"colab-df-buttons\">\n",
              "\n",
              "  <div class=\"colab-df-container\">\n",
              "    <button class=\"colab-df-convert\" onclick=\"convertToInteractive('df-a00fa8de-fd25-4d33-8905-4a5e4dff4b4a')\"\n",
              "            title=\"Convert this dataframe to an interactive table.\"\n",
              "            style=\"display:none;\">\n",
              "\n",
              "  <svg xmlns=\"http://www.w3.org/2000/svg\" height=\"24px\" viewBox=\"0 -960 960 960\">\n",
              "    <path d=\"M120-120v-720h720v720H120Zm60-500h600v-160H180v160Zm220 220h160v-160H400v160Zm0 220h160v-160H400v160ZM180-400h160v-160H180v160Zm440 0h160v-160H620v160ZM180-180h160v-160H180v160Zm440 0h160v-160H620v160Z\"/>\n",
              "  </svg>\n",
              "    </button>\n",
              "\n",
              "  <style>\n",
              "    .colab-df-container {\n",
              "      display:flex;\n",
              "      gap: 12px;\n",
              "    }\n",
              "\n",
              "    .colab-df-convert {\n",
              "      background-color: #E8F0FE;\n",
              "      border: none;\n",
              "      border-radius: 50%;\n",
              "      cursor: pointer;\n",
              "      display: none;\n",
              "      fill: #1967D2;\n",
              "      height: 32px;\n",
              "      padding: 0 0 0 0;\n",
              "      width: 32px;\n",
              "    }\n",
              "\n",
              "    .colab-df-convert:hover {\n",
              "      background-color: #E2EBFA;\n",
              "      box-shadow: 0px 1px 2px rgba(60, 64, 67, 0.3), 0px 1px 3px 1px rgba(60, 64, 67, 0.15);\n",
              "      fill: #174EA6;\n",
              "    }\n",
              "\n",
              "    .colab-df-buttons div {\n",
              "      margin-bottom: 4px;\n",
              "    }\n",
              "\n",
              "    [theme=dark] .colab-df-convert {\n",
              "      background-color: #3B4455;\n",
              "      fill: #D2E3FC;\n",
              "    }\n",
              "\n",
              "    [theme=dark] .colab-df-convert:hover {\n",
              "      background-color: #434B5C;\n",
              "      box-shadow: 0px 1px 3px 1px rgba(0, 0, 0, 0.15);\n",
              "      filter: drop-shadow(0px 1px 2px rgba(0, 0, 0, 0.3));\n",
              "      fill: #FFFFFF;\n",
              "    }\n",
              "  </style>\n",
              "\n",
              "    <script>\n",
              "      const buttonEl =\n",
              "        document.querySelector('#df-a00fa8de-fd25-4d33-8905-4a5e4dff4b4a button.colab-df-convert');\n",
              "      buttonEl.style.display =\n",
              "        google.colab.kernel.accessAllowed ? 'block' : 'none';\n",
              "\n",
              "      async function convertToInteractive(key) {\n",
              "        const element = document.querySelector('#df-a00fa8de-fd25-4d33-8905-4a5e4dff4b4a');\n",
              "        const dataTable =\n",
              "          await google.colab.kernel.invokeFunction('convertToInteractive',\n",
              "                                                    [key], {});\n",
              "        if (!dataTable) return;\n",
              "\n",
              "        const docLinkHtml = 'Like what you see? Visit the ' +\n",
              "          '<a target=\"_blank\" href=https://colab.research.google.com/notebooks/data_table.ipynb>data table notebook</a>'\n",
              "          + ' to learn more about interactive tables.';\n",
              "        element.innerHTML = '';\n",
              "        dataTable['output_type'] = 'display_data';\n",
              "        await google.colab.output.renderOutput(dataTable, element);\n",
              "        const docLink = document.createElement('div');\n",
              "        docLink.innerHTML = docLinkHtml;\n",
              "        element.appendChild(docLink);\n",
              "      }\n",
              "    </script>\n",
              "  </div>\n",
              "\n",
              "\n",
              "<div id=\"df-862ff9bd-9b3f-4e70-b66a-04de5e18a059\">\n",
              "  <button class=\"colab-df-quickchart\" onclick=\"quickchart('df-862ff9bd-9b3f-4e70-b66a-04de5e18a059')\"\n",
              "            title=\"Suggest charts.\"\n",
              "            style=\"display:none;\">\n",
              "\n",
              "<svg xmlns=\"http://www.w3.org/2000/svg\" height=\"24px\"viewBox=\"0 0 24 24\"\n",
              "     width=\"24px\">\n",
              "    <g>\n",
              "        <path d=\"M19 3H5c-1.1 0-2 .9-2 2v14c0 1.1.9 2 2 2h14c1.1 0 2-.9 2-2V5c0-1.1-.9-2-2-2zM9 17H7v-7h2v7zm4 0h-2V7h2v10zm4 0h-2v-4h2v4z\"/>\n",
              "    </g>\n",
              "</svg>\n",
              "  </button>\n",
              "\n",
              "<style>\n",
              "  .colab-df-quickchart {\n",
              "    background-color: #E8F0FE;\n",
              "    border: none;\n",
              "    border-radius: 50%;\n",
              "    cursor: pointer;\n",
              "    display: none;\n",
              "    fill: #1967D2;\n",
              "    height: 32px;\n",
              "    padding: 0 0 0 0;\n",
              "    width: 32px;\n",
              "  }\n",
              "\n",
              "  .colab-df-quickchart:hover {\n",
              "    background-color: #E2EBFA;\n",
              "    box-shadow: 0px 1px 2px rgba(60, 64, 67, 0.3), 0px 1px 3px 1px rgba(60, 64, 67, 0.15);\n",
              "    fill: #174EA6;\n",
              "  }\n",
              "\n",
              "  [theme=dark] .colab-df-quickchart {\n",
              "    background-color: #3B4455;\n",
              "    fill: #D2E3FC;\n",
              "  }\n",
              "\n",
              "  [theme=dark] .colab-df-quickchart:hover {\n",
              "    background-color: #434B5C;\n",
              "    box-shadow: 0px 1px 3px 1px rgba(0, 0, 0, 0.15);\n",
              "    filter: drop-shadow(0px 1px 2px rgba(0, 0, 0, 0.3));\n",
              "    fill: #FFFFFF;\n",
              "  }\n",
              "</style>\n",
              "\n",
              "  <script>\n",
              "    async function quickchart(key) {\n",
              "      const charts = await google.colab.kernel.invokeFunction(\n",
              "          'suggestCharts', [key], {});\n",
              "    }\n",
              "    (() => {\n",
              "      let quickchartButtonEl =\n",
              "        document.querySelector('#df-862ff9bd-9b3f-4e70-b66a-04de5e18a059 button');\n",
              "      quickchartButtonEl.style.display =\n",
              "        google.colab.kernel.accessAllowed ? 'block' : 'none';\n",
              "    })();\n",
              "  </script>\n",
              "</div>\n",
              "    </div>\n",
              "  </div>\n"
            ]
          },
          "metadata": {},
          "execution_count": 141
        }
      ]
    },
    {
      "cell_type": "code",
      "source": [
        "pData['body'] = pData['body'].apply(lambda x: BeautifulSoup(x).get_text())\n",
        "pData['body'] = pData['body'].apply(lambda x: clean_text(x))\n",
        "pData['body']= pData['body'].apply(lambda x: re.sub('<[^<]+?>','',x))\n",
        "pData['body'] = pData['body'].apply(lambda x: remove_punctuation(x))\n",
        "pData['body'] = pData['body'].apply(lambda x: lemitizeWords(x))\n",
        "pData['body'] = pData['body'].apply(lambda x: stopWordsRemove(x))"
      ],
      "metadata": {
        "id": "3VrkEXisJ69B"
      },
      "execution_count": null,
      "outputs": []
    },
    {
      "cell_type": "code",
      "source": [
        "pData['title'] = pData['title'].apply(lambda x: str(x))\n",
        "pData['title'] = pData['title'].apply(lambda x: clean_text(x))\n",
        "pData['title'] = pData['title'].apply(lambda x: remove_punctuation(x))\n",
        "pData['title'] = pData['title'].apply(lambda x: lemitizeWords(x))\n",
        "pData['title'] = pData['title'].apply(lambda x: stopWordsRemove(x))\n",
        "pData['title']= pData['title'].astype(str)"
      ],
      "metadata": {
        "id": "v51Mwe3XMJZG"
      },
      "execution_count": null,
      "outputs": []
    },
    {
      "cell_type": "code",
      "source": [
        "pData['title']"
      ],
      "metadata": {
        "colab": {
          "base_uri": "https://localhost:8080/"
        },
        "id": "yR2KjguLMx_g",
        "outputId": "fc30a50d-058b-4559-b518-3b5c3ae624db"
      },
      "execution_count": null,
      "outputs": [
        {
          "output_type": "execute_result",
          "data": {
            "text/plain": [
              "0    serializationdeserialization use java python\n",
              "Name: title, dtype: object"
            ]
          },
          "metadata": {},
          "execution_count": 144
        }
      ]
    },
    {
      "cell_type": "code",
      "source": [
        "pData['body']"
      ],
      "metadata": {
        "colab": {
          "base_uri": "https://localhost:8080/"
        },
        "id": "KWcqIWHRM4Oe",
        "outputId": "0b8ca3d9-652a-43b9-81c5-3b7777e90a84"
      },
      "execution_count": null,
      "outputs": [
        {
          "output_type": "execute_result",
          "data": {
            "text/plain": [
              "0    try python serialize python deserialize class ...\n",
              "Name: body, dtype: object"
            ]
          },
          "metadata": {},
          "execution_count": 145
        }
      ]
    },
    {
      "cell_type": "code",
      "source": [
        "with open('/content/tfidfVector.pkl', 'rb') as f:\n",
        "    vecto = pickle.load(f)"
      ],
      "metadata": {
        "id": "bgkWmIiouq8_"
      },
      "execution_count": null,
      "outputs": []
    },
    {
      "cell_type": "code",
      "source": [
        "X1_pred = vecto.transform(pData['title'].str.lower())\n",
        "X2_pred = vecto.transform(pData['body'].str.lower())"
      ],
      "metadata": {
        "id": "RKzIFVJoM7EW"
      },
      "execution_count": null,
      "outputs": []
    },
    {
      "cell_type": "code",
      "source": [
        "# pData['body']= pData['body'].astype(str)"
      ],
      "metadata": {
        "id": "EYHzfndgNGhb"
      },
      "execution_count": null,
      "outputs": []
    },
    {
      "cell_type": "code",
      "source": [
        "# X2 = vectorizer.fit_transform(pData['body'].str.lower())"
      ],
      "metadata": {
        "id": "LEuNFh5wNMLR"
      },
      "execution_count": null,
      "outputs": []
    },
    {
      "cell_type": "code",
      "source": [
        "X1_pred.shape"
      ],
      "metadata": {
        "colab": {
          "base_uri": "https://localhost:8080/"
        },
        "id": "P_O-fsaqNRC4",
        "outputId": "fbe4890a-c3e8-4b33-dc9a-c9f011a7156f"
      },
      "execution_count": null,
      "outputs": [
        {
          "output_type": "execute_result",
          "data": {
            "text/plain": [
              "(1, 5000)"
            ]
          },
          "metadata": {},
          "execution_count": 150
        }
      ]
    },
    {
      "cell_type": "code",
      "source": [
        "X2_pred.shape"
      ],
      "metadata": {
        "colab": {
          "base_uri": "https://localhost:8080/"
        },
        "id": "OPLD3E2LNRyh",
        "outputId": "aa7b0bd0-3534-4903-a13a-254e25190a41"
      },
      "execution_count": null,
      "outputs": [
        {
          "output_type": "execute_result",
          "data": {
            "text/plain": [
              "(1, 5000)"
            ]
          },
          "metadata": {},
          "execution_count": 151
        }
      ]
    },
    {
      "cell_type": "code",
      "source": [
        "X_pred = hstack([X1_pred, X2_pred])"
      ],
      "metadata": {
        "id": "GLWOkt1INUtj"
      },
      "execution_count": null,
      "outputs": []
    },
    {
      "cell_type": "code",
      "source": [
        "with open('/content/clf.pkl', 'rb') as model_file:\n",
        "    loaded_model = pickle.load(model_file)"
      ],
      "metadata": {
        "id": "flyhFoKgNd9B"
      },
      "execution_count": null,
      "outputs": []
    },
    {
      "cell_type": "code",
      "source": [
        "prediction = loaded_model.predict(X_pred)"
      ],
      "metadata": {
        "id": "U-M8b7ukN6fo"
      },
      "execution_count": null,
      "outputs": []
    },
    {
      "cell_type": "code",
      "source": [
        "prediction"
      ],
      "metadata": {
        "colab": {
          "base_uri": "https://localhost:8080/"
        },
        "id": "76tWpPDVONdP",
        "outputId": "cfead8aa-49a5-4db3-c7ae-e0c4753adc62"
      },
      "execution_count": null,
      "outputs": [
        {
          "output_type": "execute_result",
          "data": {
            "text/plain": [
              "array([[0, 0, 0, 0, 0, 0, 0, 0, 0, 0, 0, 0, 0, 0, 0, 0, 0, 0, 0, 0, 0, 0,\n",
              "        0, 0, 0, 0, 0, 0, 0, 0, 0, 0, 0, 0, 0, 0, 0, 0, 0, 0, 0, 0, 0, 0,\n",
              "        0, 0, 0, 1, 0, 0, 1, 0, 0, 0, 0, 0, 0, 0, 0, 0, 0, 0, 0, 0, 0, 0,\n",
              "        0, 0, 0, 1, 0, 0, 0, 0, 0, 0, 0, 0, 0, 0, 0, 0, 0, 0, 0, 0, 0, 0,\n",
              "        0, 0, 0, 0, 0, 0, 0, 0, 0, 0, 0, 0]])"
            ]
          },
          "metadata": {},
          "execution_count": 155
        }
      ]
    },
    {
      "cell_type": "code",
      "source": [
        "predicted_labels = multilabel_binarizer.inverse_transform(prediction)\n",
        "print(predicted_labels)"
      ],
      "metadata": {
        "colab": {
          "base_uri": "https://localhost:8080/"
        },
        "id": "T8wM0K3JboIl",
        "outputId": "15d1e3d9-69f1-4591-e0ff-284d0125ceab"
      },
      "execution_count": null,
      "outputs": [
        {
          "output_type": "stream",
          "name": "stdout",
          "text": [
            "[('java', 'json', 'python')]\n"
          ]
        }
      ]
    }
  ]
}